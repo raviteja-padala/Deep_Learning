{
  "nbformat": 4,
  "nbformat_minor": 0,
  "metadata": {
    "colab": {
      "provenance": [],
      "gpuType": "T4",
      "authorship_tag": "ABX9TyNRbclofNsZa5aNhmBc4eki",
      "include_colab_link": true
    },
    "kernelspec": {
      "name": "python3",
      "display_name": "Python 3"
    },
    "language_info": {
      "name": "python"
    },
    "accelerator": "GPU"
  },
  "cells": [
    {
      "cell_type": "markdown",
      "metadata": {
        "id": "view-in-github",
        "colab_type": "text"
      },
      "source": [
        "<a href=\"https://colab.research.google.com/github/raviteja-padala/Deep_Learning/blob/main/Bank_Churn_prediction_with_ANN.ipynb\" target=\"_parent\"><img src=\"https://colab.research.google.com/assets/colab-badge.svg\" alt=\"Open In Colab\"/></a>"
      ]
    },
    {
      "cell_type": "markdown",
      "source": [
        "\n",
        "# Predicting Bank Churn with Deep Learning: An Artificial Neural Network Approach"
      ],
      "metadata": {
        "id": "-a3Zzc9cVmgc"
      }
    },
    {
      "cell_type": "markdown",
      "source": [
        "## Objective:\n",
        "\n",
        "The objective of this project is to implement an Artificial Neural Network (ANN) on a bank churn dataset to predict bank churn using a deep learning model."
      ],
      "metadata": {
        "id": "rhVMQA1QO6xh"
      }
    },
    {
      "cell_type": "markdown",
      "source": [
        " Dataset source : https://www.kaggle.com/datasets/mathchi/churn-for-bank-customers/data"
      ],
      "metadata": {
        "id": "x8Ra9pxRW2yL"
      }
    },
    {
      "cell_type": "markdown",
      "source": [
        "## Load Libraries:"
      ],
      "metadata": {
        "id": "Fq2mYKtiSNov"
      }
    },
    {
      "cell_type": "code",
      "source": [
        "#importing required libraries\n",
        "import numpy as np\n",
        "import pandas as pd\n",
        "import tensorflow as tf\n",
        "import matplotlib.pyplot as plt\n",
        "from sklearn.preprocessing import OneHotEncoder\n",
        "from sklearn.preprocessing import LabelEncoder\n",
        "from sklearn.model_selection import train_test_split\n",
        "from sklearn.preprocessing import StandardScaler\n",
        "from sklearn.metrics import confusion_matrix, accuracy_score, classification_report"
      ],
      "metadata": {
        "id": "DsRg35pNVm3L"
      },
      "execution_count": 2,
      "outputs": []
    },
    {
      "cell_type": "markdown",
      "source": [
        "## Load Dataset"
      ],
      "metadata": {
        "id": "T6bZ3DuWSPoL"
      }
    },
    {
      "cell_type": "code",
      "source": [
        "# Loading the data\n",
        "bank_data = pd.read_csv(\"https://raw.githubusercontent.com/raviteja-padala/Datasets/main/Bank_Customers_Churn.csv\")"
      ],
      "metadata": {
        "id": "uyVO9UMDVnFk"
      },
      "execution_count": 3,
      "outputs": []
    },
    {
      "cell_type": "code",
      "source": [
        "#top 5 rows of the dataset\n",
        "bank_data.head()"
      ],
      "metadata": {
        "colab": {
          "base_uri": "https://localhost:8080/",
          "height": 206
        },
        "id": "qGq4f6O1VnIj",
        "outputId": "f4366ba3-481f-4861-db42-fb17b05cf9a5"
      },
      "execution_count": 4,
      "outputs": [
        {
          "output_type": "execute_result",
          "data": {
            "text/plain": [
              "   RowNumber  CustomerId   Surname  CreditScore Geography  Gender  Age  \\\n",
              "0          1    15634602  Hargrave          619    France  Female   42   \n",
              "1          2    15647311      Hill          608     Spain  Female   41   \n",
              "2          3    15619304      Onio          502    France  Female   42   \n",
              "3          4    15701354      Boni          699    France  Female   39   \n",
              "4          5    15737888  Mitchell          850     Spain  Female   43   \n",
              "\n",
              "   Tenure    Balance  NumOfProducts  HasCrCard  IsActiveMember  \\\n",
              "0       2       0.00              1          1               1   \n",
              "1       1   83807.86              1          0               1   \n",
              "2       8  159660.80              3          1               0   \n",
              "3       1       0.00              2          0               0   \n",
              "4       2  125510.82              1          1               1   \n",
              "\n",
              "   EstimatedSalary  Exited  \n",
              "0        101348.88       1  \n",
              "1        112542.58       0  \n",
              "2        113931.57       1  \n",
              "3         93826.63       0  \n",
              "4         79084.10       0  "
            ],
            "text/html": [
              "\n",
              "  <div id=\"df-4eef2c18-9502-4a43-8cb3-73a302d7c2bb\" class=\"colab-df-container\">\n",
              "    <div>\n",
              "<style scoped>\n",
              "    .dataframe tbody tr th:only-of-type {\n",
              "        vertical-align: middle;\n",
              "    }\n",
              "\n",
              "    .dataframe tbody tr th {\n",
              "        vertical-align: top;\n",
              "    }\n",
              "\n",
              "    .dataframe thead th {\n",
              "        text-align: right;\n",
              "    }\n",
              "</style>\n",
              "<table border=\"1\" class=\"dataframe\">\n",
              "  <thead>\n",
              "    <tr style=\"text-align: right;\">\n",
              "      <th></th>\n",
              "      <th>RowNumber</th>\n",
              "      <th>CustomerId</th>\n",
              "      <th>Surname</th>\n",
              "      <th>CreditScore</th>\n",
              "      <th>Geography</th>\n",
              "      <th>Gender</th>\n",
              "      <th>Age</th>\n",
              "      <th>Tenure</th>\n",
              "      <th>Balance</th>\n",
              "      <th>NumOfProducts</th>\n",
              "      <th>HasCrCard</th>\n",
              "      <th>IsActiveMember</th>\n",
              "      <th>EstimatedSalary</th>\n",
              "      <th>Exited</th>\n",
              "    </tr>\n",
              "  </thead>\n",
              "  <tbody>\n",
              "    <tr>\n",
              "      <th>0</th>\n",
              "      <td>1</td>\n",
              "      <td>15634602</td>\n",
              "      <td>Hargrave</td>\n",
              "      <td>619</td>\n",
              "      <td>France</td>\n",
              "      <td>Female</td>\n",
              "      <td>42</td>\n",
              "      <td>2</td>\n",
              "      <td>0.00</td>\n",
              "      <td>1</td>\n",
              "      <td>1</td>\n",
              "      <td>1</td>\n",
              "      <td>101348.88</td>\n",
              "      <td>1</td>\n",
              "    </tr>\n",
              "    <tr>\n",
              "      <th>1</th>\n",
              "      <td>2</td>\n",
              "      <td>15647311</td>\n",
              "      <td>Hill</td>\n",
              "      <td>608</td>\n",
              "      <td>Spain</td>\n",
              "      <td>Female</td>\n",
              "      <td>41</td>\n",
              "      <td>1</td>\n",
              "      <td>83807.86</td>\n",
              "      <td>1</td>\n",
              "      <td>0</td>\n",
              "      <td>1</td>\n",
              "      <td>112542.58</td>\n",
              "      <td>0</td>\n",
              "    </tr>\n",
              "    <tr>\n",
              "      <th>2</th>\n",
              "      <td>3</td>\n",
              "      <td>15619304</td>\n",
              "      <td>Onio</td>\n",
              "      <td>502</td>\n",
              "      <td>France</td>\n",
              "      <td>Female</td>\n",
              "      <td>42</td>\n",
              "      <td>8</td>\n",
              "      <td>159660.80</td>\n",
              "      <td>3</td>\n",
              "      <td>1</td>\n",
              "      <td>0</td>\n",
              "      <td>113931.57</td>\n",
              "      <td>1</td>\n",
              "    </tr>\n",
              "    <tr>\n",
              "      <th>3</th>\n",
              "      <td>4</td>\n",
              "      <td>15701354</td>\n",
              "      <td>Boni</td>\n",
              "      <td>699</td>\n",
              "      <td>France</td>\n",
              "      <td>Female</td>\n",
              "      <td>39</td>\n",
              "      <td>1</td>\n",
              "      <td>0.00</td>\n",
              "      <td>2</td>\n",
              "      <td>0</td>\n",
              "      <td>0</td>\n",
              "      <td>93826.63</td>\n",
              "      <td>0</td>\n",
              "    </tr>\n",
              "    <tr>\n",
              "      <th>4</th>\n",
              "      <td>5</td>\n",
              "      <td>15737888</td>\n",
              "      <td>Mitchell</td>\n",
              "      <td>850</td>\n",
              "      <td>Spain</td>\n",
              "      <td>Female</td>\n",
              "      <td>43</td>\n",
              "      <td>2</td>\n",
              "      <td>125510.82</td>\n",
              "      <td>1</td>\n",
              "      <td>1</td>\n",
              "      <td>1</td>\n",
              "      <td>79084.10</td>\n",
              "      <td>0</td>\n",
              "    </tr>\n",
              "  </tbody>\n",
              "</table>\n",
              "</div>\n",
              "    <div class=\"colab-df-buttons\">\n",
              "\n",
              "  <div class=\"colab-df-container\">\n",
              "    <button class=\"colab-df-convert\" onclick=\"convertToInteractive('df-4eef2c18-9502-4a43-8cb3-73a302d7c2bb')\"\n",
              "            title=\"Convert this dataframe to an interactive table.\"\n",
              "            style=\"display:none;\">\n",
              "\n",
              "  <svg xmlns=\"http://www.w3.org/2000/svg\" height=\"24px\" viewBox=\"0 -960 960 960\">\n",
              "    <path d=\"M120-120v-720h720v720H120Zm60-500h600v-160H180v160Zm220 220h160v-160H400v160Zm0 220h160v-160H400v160ZM180-400h160v-160H180v160Zm440 0h160v-160H620v160ZM180-180h160v-160H180v160Zm440 0h160v-160H620v160Z\"/>\n",
              "  </svg>\n",
              "    </button>\n",
              "\n",
              "  <style>\n",
              "    .colab-df-container {\n",
              "      display:flex;\n",
              "      gap: 12px;\n",
              "    }\n",
              "\n",
              "    .colab-df-convert {\n",
              "      background-color: #E8F0FE;\n",
              "      border: none;\n",
              "      border-radius: 50%;\n",
              "      cursor: pointer;\n",
              "      display: none;\n",
              "      fill: #1967D2;\n",
              "      height: 32px;\n",
              "      padding: 0 0 0 0;\n",
              "      width: 32px;\n",
              "    }\n",
              "\n",
              "    .colab-df-convert:hover {\n",
              "      background-color: #E2EBFA;\n",
              "      box-shadow: 0px 1px 2px rgba(60, 64, 67, 0.3), 0px 1px 3px 1px rgba(60, 64, 67, 0.15);\n",
              "      fill: #174EA6;\n",
              "    }\n",
              "\n",
              "    .colab-df-buttons div {\n",
              "      margin-bottom: 4px;\n",
              "    }\n",
              "\n",
              "    [theme=dark] .colab-df-convert {\n",
              "      background-color: #3B4455;\n",
              "      fill: #D2E3FC;\n",
              "    }\n",
              "\n",
              "    [theme=dark] .colab-df-convert:hover {\n",
              "      background-color: #434B5C;\n",
              "      box-shadow: 0px 1px 3px 1px rgba(0, 0, 0, 0.15);\n",
              "      filter: drop-shadow(0px 1px 2px rgba(0, 0, 0, 0.3));\n",
              "      fill: #FFFFFF;\n",
              "    }\n",
              "  </style>\n",
              "\n",
              "    <script>\n",
              "      const buttonEl =\n",
              "        document.querySelector('#df-4eef2c18-9502-4a43-8cb3-73a302d7c2bb button.colab-df-convert');\n",
              "      buttonEl.style.display =\n",
              "        google.colab.kernel.accessAllowed ? 'block' : 'none';\n",
              "\n",
              "      async function convertToInteractive(key) {\n",
              "        const element = document.querySelector('#df-4eef2c18-9502-4a43-8cb3-73a302d7c2bb');\n",
              "        const dataTable =\n",
              "          await google.colab.kernel.invokeFunction('convertToInteractive',\n",
              "                                                    [key], {});\n",
              "        if (!dataTable) return;\n",
              "\n",
              "        const docLinkHtml = 'Like what you see? Visit the ' +\n",
              "          '<a target=\"_blank\" href=https://colab.research.google.com/notebooks/data_table.ipynb>data table notebook</a>'\n",
              "          + ' to learn more about interactive tables.';\n",
              "        element.innerHTML = '';\n",
              "        dataTable['output_type'] = 'display_data';\n",
              "        await google.colab.output.renderOutput(dataTable, element);\n",
              "        const docLink = document.createElement('div');\n",
              "        docLink.innerHTML = docLinkHtml;\n",
              "        element.appendChild(docLink);\n",
              "      }\n",
              "    </script>\n",
              "  </div>\n",
              "\n",
              "\n",
              "<div id=\"df-34a18a65-6e9c-45f2-bb58-fdf516dbf2ab\">\n",
              "  <button class=\"colab-df-quickchart\" onclick=\"quickchart('df-34a18a65-6e9c-45f2-bb58-fdf516dbf2ab')\"\n",
              "            title=\"Suggest charts.\"\n",
              "            style=\"display:none;\">\n",
              "\n",
              "<svg xmlns=\"http://www.w3.org/2000/svg\" height=\"24px\"viewBox=\"0 0 24 24\"\n",
              "     width=\"24px\">\n",
              "    <g>\n",
              "        <path d=\"M19 3H5c-1.1 0-2 .9-2 2v14c0 1.1.9 2 2 2h14c1.1 0 2-.9 2-2V5c0-1.1-.9-2-2-2zM9 17H7v-7h2v7zm4 0h-2V7h2v10zm4 0h-2v-4h2v4z\"/>\n",
              "    </g>\n",
              "</svg>\n",
              "  </button>\n",
              "\n",
              "<style>\n",
              "  .colab-df-quickchart {\n",
              "      --bg-color: #E8F0FE;\n",
              "      --fill-color: #1967D2;\n",
              "      --hover-bg-color: #E2EBFA;\n",
              "      --hover-fill-color: #174EA6;\n",
              "      --disabled-fill-color: #AAA;\n",
              "      --disabled-bg-color: #DDD;\n",
              "  }\n",
              "\n",
              "  [theme=dark] .colab-df-quickchart {\n",
              "      --bg-color: #3B4455;\n",
              "      --fill-color: #D2E3FC;\n",
              "      --hover-bg-color: #434B5C;\n",
              "      --hover-fill-color: #FFFFFF;\n",
              "      --disabled-bg-color: #3B4455;\n",
              "      --disabled-fill-color: #666;\n",
              "  }\n",
              "\n",
              "  .colab-df-quickchart {\n",
              "    background-color: var(--bg-color);\n",
              "    border: none;\n",
              "    border-radius: 50%;\n",
              "    cursor: pointer;\n",
              "    display: none;\n",
              "    fill: var(--fill-color);\n",
              "    height: 32px;\n",
              "    padding: 0;\n",
              "    width: 32px;\n",
              "  }\n",
              "\n",
              "  .colab-df-quickchart:hover {\n",
              "    background-color: var(--hover-bg-color);\n",
              "    box-shadow: 0 1px 2px rgba(60, 64, 67, 0.3), 0 1px 3px 1px rgba(60, 64, 67, 0.15);\n",
              "    fill: var(--button-hover-fill-color);\n",
              "  }\n",
              "\n",
              "  .colab-df-quickchart-complete:disabled,\n",
              "  .colab-df-quickchart-complete:disabled:hover {\n",
              "    background-color: var(--disabled-bg-color);\n",
              "    fill: var(--disabled-fill-color);\n",
              "    box-shadow: none;\n",
              "  }\n",
              "\n",
              "  .colab-df-spinner {\n",
              "    border: 2px solid var(--fill-color);\n",
              "    border-color: transparent;\n",
              "    border-bottom-color: var(--fill-color);\n",
              "    animation:\n",
              "      spin 1s steps(1) infinite;\n",
              "  }\n",
              "\n",
              "  @keyframes spin {\n",
              "    0% {\n",
              "      border-color: transparent;\n",
              "      border-bottom-color: var(--fill-color);\n",
              "      border-left-color: var(--fill-color);\n",
              "    }\n",
              "    20% {\n",
              "      border-color: transparent;\n",
              "      border-left-color: var(--fill-color);\n",
              "      border-top-color: var(--fill-color);\n",
              "    }\n",
              "    30% {\n",
              "      border-color: transparent;\n",
              "      border-left-color: var(--fill-color);\n",
              "      border-top-color: var(--fill-color);\n",
              "      border-right-color: var(--fill-color);\n",
              "    }\n",
              "    40% {\n",
              "      border-color: transparent;\n",
              "      border-right-color: var(--fill-color);\n",
              "      border-top-color: var(--fill-color);\n",
              "    }\n",
              "    60% {\n",
              "      border-color: transparent;\n",
              "      border-right-color: var(--fill-color);\n",
              "    }\n",
              "    80% {\n",
              "      border-color: transparent;\n",
              "      border-right-color: var(--fill-color);\n",
              "      border-bottom-color: var(--fill-color);\n",
              "    }\n",
              "    90% {\n",
              "      border-color: transparent;\n",
              "      border-bottom-color: var(--fill-color);\n",
              "    }\n",
              "  }\n",
              "</style>\n",
              "\n",
              "  <script>\n",
              "    async function quickchart(key) {\n",
              "      const quickchartButtonEl =\n",
              "        document.querySelector('#' + key + ' button');\n",
              "      quickchartButtonEl.disabled = true;  // To prevent multiple clicks.\n",
              "      quickchartButtonEl.classList.add('colab-df-spinner');\n",
              "      try {\n",
              "        const charts = await google.colab.kernel.invokeFunction(\n",
              "            'suggestCharts', [key], {});\n",
              "      } catch (error) {\n",
              "        console.error('Error during call to suggestCharts:', error);\n",
              "      }\n",
              "      quickchartButtonEl.classList.remove('colab-df-spinner');\n",
              "      quickchartButtonEl.classList.add('colab-df-quickchart-complete');\n",
              "    }\n",
              "    (() => {\n",
              "      let quickchartButtonEl =\n",
              "        document.querySelector('#df-34a18a65-6e9c-45f2-bb58-fdf516dbf2ab button');\n",
              "      quickchartButtonEl.style.display =\n",
              "        google.colab.kernel.accessAllowed ? 'block' : 'none';\n",
              "    })();\n",
              "  </script>\n",
              "</div>\n",
              "    </div>\n",
              "  </div>\n"
            ]
          },
          "metadata": {},
          "execution_count": 4
        }
      ]
    },
    {
      "cell_type": "code",
      "source": [
        "#info of the dataset\n",
        "bank_data.info()"
      ],
      "metadata": {
        "colab": {
          "base_uri": "https://localhost:8080/"
        },
        "id": "LizNTnJHXyFL",
        "outputId": "0eeef674-8d45-452d-f1f4-fc46b0cdd3c3"
      },
      "execution_count": 5,
      "outputs": [
        {
          "output_type": "stream",
          "name": "stdout",
          "text": [
            "<class 'pandas.core.frame.DataFrame'>\n",
            "RangeIndex: 10000 entries, 0 to 9999\n",
            "Data columns (total 14 columns):\n",
            " #   Column           Non-Null Count  Dtype  \n",
            "---  ------           --------------  -----  \n",
            " 0   RowNumber        10000 non-null  int64  \n",
            " 1   CustomerId       10000 non-null  int64  \n",
            " 2   Surname          10000 non-null  object \n",
            " 3   CreditScore      10000 non-null  int64  \n",
            " 4   Geography        10000 non-null  object \n",
            " 5   Gender           10000 non-null  object \n",
            " 6   Age              10000 non-null  int64  \n",
            " 7   Tenure           10000 non-null  int64  \n",
            " 8   Balance          10000 non-null  float64\n",
            " 9   NumOfProducts    10000 non-null  int64  \n",
            " 10  HasCrCard        10000 non-null  int64  \n",
            " 11  IsActiveMember   10000 non-null  int64  \n",
            " 12  EstimatedSalary  10000 non-null  float64\n",
            " 13  Exited           10000 non-null  int64  \n",
            "dtypes: float64(2), int64(9), object(3)\n",
            "memory usage: 1.1+ MB\n"
          ]
        }
      ]
    },
    {
      "cell_type": "markdown",
      "source": [
        "## Data Preprocessing:\n",
        "\n",
        "Perform data preprocessing, including handling missing values, dropping unnecessary columns, and encoding categorical variables like \"Geography\" and \"Gender.\""
      ],
      "metadata": {
        "id": "IbtO8fbzSZ4r"
      }
    },
    {
      "cell_type": "code",
      "source": [
        "#checking null values in the data\n",
        "bank_data.isnull().sum().to_frame('No. of Nulls')"
      ],
      "metadata": {
        "colab": {
          "base_uri": "https://localhost:8080/",
          "height": 488
        },
        "id": "0JNOgV0fYGVC",
        "outputId": "e86360ad-c264-48dd-c5e3-9e34ecf7e477"
      },
      "execution_count": 6,
      "outputs": [
        {
          "output_type": "execute_result",
          "data": {
            "text/plain": [
              "                 No. of Nulls\n",
              "RowNumber                   0\n",
              "CustomerId                  0\n",
              "Surname                     0\n",
              "CreditScore                 0\n",
              "Geography                   0\n",
              "Gender                      0\n",
              "Age                         0\n",
              "Tenure                      0\n",
              "Balance                     0\n",
              "NumOfProducts               0\n",
              "HasCrCard                   0\n",
              "IsActiveMember              0\n",
              "EstimatedSalary             0\n",
              "Exited                      0"
            ],
            "text/html": [
              "\n",
              "  <div id=\"df-8ba7b827-b357-44d1-8fe1-03ff4c0b8faa\" class=\"colab-df-container\">\n",
              "    <div>\n",
              "<style scoped>\n",
              "    .dataframe tbody tr th:only-of-type {\n",
              "        vertical-align: middle;\n",
              "    }\n",
              "\n",
              "    .dataframe tbody tr th {\n",
              "        vertical-align: top;\n",
              "    }\n",
              "\n",
              "    .dataframe thead th {\n",
              "        text-align: right;\n",
              "    }\n",
              "</style>\n",
              "<table border=\"1\" class=\"dataframe\">\n",
              "  <thead>\n",
              "    <tr style=\"text-align: right;\">\n",
              "      <th></th>\n",
              "      <th>No. of Nulls</th>\n",
              "    </tr>\n",
              "  </thead>\n",
              "  <tbody>\n",
              "    <tr>\n",
              "      <th>RowNumber</th>\n",
              "      <td>0</td>\n",
              "    </tr>\n",
              "    <tr>\n",
              "      <th>CustomerId</th>\n",
              "      <td>0</td>\n",
              "    </tr>\n",
              "    <tr>\n",
              "      <th>Surname</th>\n",
              "      <td>0</td>\n",
              "    </tr>\n",
              "    <tr>\n",
              "      <th>CreditScore</th>\n",
              "      <td>0</td>\n",
              "    </tr>\n",
              "    <tr>\n",
              "      <th>Geography</th>\n",
              "      <td>0</td>\n",
              "    </tr>\n",
              "    <tr>\n",
              "      <th>Gender</th>\n",
              "      <td>0</td>\n",
              "    </tr>\n",
              "    <tr>\n",
              "      <th>Age</th>\n",
              "      <td>0</td>\n",
              "    </tr>\n",
              "    <tr>\n",
              "      <th>Tenure</th>\n",
              "      <td>0</td>\n",
              "    </tr>\n",
              "    <tr>\n",
              "      <th>Balance</th>\n",
              "      <td>0</td>\n",
              "    </tr>\n",
              "    <tr>\n",
              "      <th>NumOfProducts</th>\n",
              "      <td>0</td>\n",
              "    </tr>\n",
              "    <tr>\n",
              "      <th>HasCrCard</th>\n",
              "      <td>0</td>\n",
              "    </tr>\n",
              "    <tr>\n",
              "      <th>IsActiveMember</th>\n",
              "      <td>0</td>\n",
              "    </tr>\n",
              "    <tr>\n",
              "      <th>EstimatedSalary</th>\n",
              "      <td>0</td>\n",
              "    </tr>\n",
              "    <tr>\n",
              "      <th>Exited</th>\n",
              "      <td>0</td>\n",
              "    </tr>\n",
              "  </tbody>\n",
              "</table>\n",
              "</div>\n",
              "    <div class=\"colab-df-buttons\">\n",
              "\n",
              "  <div class=\"colab-df-container\">\n",
              "    <button class=\"colab-df-convert\" onclick=\"convertToInteractive('df-8ba7b827-b357-44d1-8fe1-03ff4c0b8faa')\"\n",
              "            title=\"Convert this dataframe to an interactive table.\"\n",
              "            style=\"display:none;\">\n",
              "\n",
              "  <svg xmlns=\"http://www.w3.org/2000/svg\" height=\"24px\" viewBox=\"0 -960 960 960\">\n",
              "    <path d=\"M120-120v-720h720v720H120Zm60-500h600v-160H180v160Zm220 220h160v-160H400v160Zm0 220h160v-160H400v160ZM180-400h160v-160H180v160Zm440 0h160v-160H620v160ZM180-180h160v-160H180v160Zm440 0h160v-160H620v160Z\"/>\n",
              "  </svg>\n",
              "    </button>\n",
              "\n",
              "  <style>\n",
              "    .colab-df-container {\n",
              "      display:flex;\n",
              "      gap: 12px;\n",
              "    }\n",
              "\n",
              "    .colab-df-convert {\n",
              "      background-color: #E8F0FE;\n",
              "      border: none;\n",
              "      border-radius: 50%;\n",
              "      cursor: pointer;\n",
              "      display: none;\n",
              "      fill: #1967D2;\n",
              "      height: 32px;\n",
              "      padding: 0 0 0 0;\n",
              "      width: 32px;\n",
              "    }\n",
              "\n",
              "    .colab-df-convert:hover {\n",
              "      background-color: #E2EBFA;\n",
              "      box-shadow: 0px 1px 2px rgba(60, 64, 67, 0.3), 0px 1px 3px 1px rgba(60, 64, 67, 0.15);\n",
              "      fill: #174EA6;\n",
              "    }\n",
              "\n",
              "    .colab-df-buttons div {\n",
              "      margin-bottom: 4px;\n",
              "    }\n",
              "\n",
              "    [theme=dark] .colab-df-convert {\n",
              "      background-color: #3B4455;\n",
              "      fill: #D2E3FC;\n",
              "    }\n",
              "\n",
              "    [theme=dark] .colab-df-convert:hover {\n",
              "      background-color: #434B5C;\n",
              "      box-shadow: 0px 1px 3px 1px rgba(0, 0, 0, 0.15);\n",
              "      filter: drop-shadow(0px 1px 2px rgba(0, 0, 0, 0.3));\n",
              "      fill: #FFFFFF;\n",
              "    }\n",
              "  </style>\n",
              "\n",
              "    <script>\n",
              "      const buttonEl =\n",
              "        document.querySelector('#df-8ba7b827-b357-44d1-8fe1-03ff4c0b8faa button.colab-df-convert');\n",
              "      buttonEl.style.display =\n",
              "        google.colab.kernel.accessAllowed ? 'block' : 'none';\n",
              "\n",
              "      async function convertToInteractive(key) {\n",
              "        const element = document.querySelector('#df-8ba7b827-b357-44d1-8fe1-03ff4c0b8faa');\n",
              "        const dataTable =\n",
              "          await google.colab.kernel.invokeFunction('convertToInteractive',\n",
              "                                                    [key], {});\n",
              "        if (!dataTable) return;\n",
              "\n",
              "        const docLinkHtml = 'Like what you see? Visit the ' +\n",
              "          '<a target=\"_blank\" href=https://colab.research.google.com/notebooks/data_table.ipynb>data table notebook</a>'\n",
              "          + ' to learn more about interactive tables.';\n",
              "        element.innerHTML = '';\n",
              "        dataTable['output_type'] = 'display_data';\n",
              "        await google.colab.output.renderOutput(dataTable, element);\n",
              "        const docLink = document.createElement('div');\n",
              "        docLink.innerHTML = docLinkHtml;\n",
              "        element.appendChild(docLink);\n",
              "      }\n",
              "    </script>\n",
              "  </div>\n",
              "\n",
              "\n",
              "<div id=\"df-8aeeb079-07d0-4b5b-a37d-03b6ffa5c533\">\n",
              "  <button class=\"colab-df-quickchart\" onclick=\"quickchart('df-8aeeb079-07d0-4b5b-a37d-03b6ffa5c533')\"\n",
              "            title=\"Suggest charts.\"\n",
              "            style=\"display:none;\">\n",
              "\n",
              "<svg xmlns=\"http://www.w3.org/2000/svg\" height=\"24px\"viewBox=\"0 0 24 24\"\n",
              "     width=\"24px\">\n",
              "    <g>\n",
              "        <path d=\"M19 3H5c-1.1 0-2 .9-2 2v14c0 1.1.9 2 2 2h14c1.1 0 2-.9 2-2V5c0-1.1-.9-2-2-2zM9 17H7v-7h2v7zm4 0h-2V7h2v10zm4 0h-2v-4h2v4z\"/>\n",
              "    </g>\n",
              "</svg>\n",
              "  </button>\n",
              "\n",
              "<style>\n",
              "  .colab-df-quickchart {\n",
              "      --bg-color: #E8F0FE;\n",
              "      --fill-color: #1967D2;\n",
              "      --hover-bg-color: #E2EBFA;\n",
              "      --hover-fill-color: #174EA6;\n",
              "      --disabled-fill-color: #AAA;\n",
              "      --disabled-bg-color: #DDD;\n",
              "  }\n",
              "\n",
              "  [theme=dark] .colab-df-quickchart {\n",
              "      --bg-color: #3B4455;\n",
              "      --fill-color: #D2E3FC;\n",
              "      --hover-bg-color: #434B5C;\n",
              "      --hover-fill-color: #FFFFFF;\n",
              "      --disabled-bg-color: #3B4455;\n",
              "      --disabled-fill-color: #666;\n",
              "  }\n",
              "\n",
              "  .colab-df-quickchart {\n",
              "    background-color: var(--bg-color);\n",
              "    border: none;\n",
              "    border-radius: 50%;\n",
              "    cursor: pointer;\n",
              "    display: none;\n",
              "    fill: var(--fill-color);\n",
              "    height: 32px;\n",
              "    padding: 0;\n",
              "    width: 32px;\n",
              "  }\n",
              "\n",
              "  .colab-df-quickchart:hover {\n",
              "    background-color: var(--hover-bg-color);\n",
              "    box-shadow: 0 1px 2px rgba(60, 64, 67, 0.3), 0 1px 3px 1px rgba(60, 64, 67, 0.15);\n",
              "    fill: var(--button-hover-fill-color);\n",
              "  }\n",
              "\n",
              "  .colab-df-quickchart-complete:disabled,\n",
              "  .colab-df-quickchart-complete:disabled:hover {\n",
              "    background-color: var(--disabled-bg-color);\n",
              "    fill: var(--disabled-fill-color);\n",
              "    box-shadow: none;\n",
              "  }\n",
              "\n",
              "  .colab-df-spinner {\n",
              "    border: 2px solid var(--fill-color);\n",
              "    border-color: transparent;\n",
              "    border-bottom-color: var(--fill-color);\n",
              "    animation:\n",
              "      spin 1s steps(1) infinite;\n",
              "  }\n",
              "\n",
              "  @keyframes spin {\n",
              "    0% {\n",
              "      border-color: transparent;\n",
              "      border-bottom-color: var(--fill-color);\n",
              "      border-left-color: var(--fill-color);\n",
              "    }\n",
              "    20% {\n",
              "      border-color: transparent;\n",
              "      border-left-color: var(--fill-color);\n",
              "      border-top-color: var(--fill-color);\n",
              "    }\n",
              "    30% {\n",
              "      border-color: transparent;\n",
              "      border-left-color: var(--fill-color);\n",
              "      border-top-color: var(--fill-color);\n",
              "      border-right-color: var(--fill-color);\n",
              "    }\n",
              "    40% {\n",
              "      border-color: transparent;\n",
              "      border-right-color: var(--fill-color);\n",
              "      border-top-color: var(--fill-color);\n",
              "    }\n",
              "    60% {\n",
              "      border-color: transparent;\n",
              "      border-right-color: var(--fill-color);\n",
              "    }\n",
              "    80% {\n",
              "      border-color: transparent;\n",
              "      border-right-color: var(--fill-color);\n",
              "      border-bottom-color: var(--fill-color);\n",
              "    }\n",
              "    90% {\n",
              "      border-color: transparent;\n",
              "      border-bottom-color: var(--fill-color);\n",
              "    }\n",
              "  }\n",
              "</style>\n",
              "\n",
              "  <script>\n",
              "    async function quickchart(key) {\n",
              "      const quickchartButtonEl =\n",
              "        document.querySelector('#' + key + ' button');\n",
              "      quickchartButtonEl.disabled = true;  // To prevent multiple clicks.\n",
              "      quickchartButtonEl.classList.add('colab-df-spinner');\n",
              "      try {\n",
              "        const charts = await google.colab.kernel.invokeFunction(\n",
              "            'suggestCharts', [key], {});\n",
              "      } catch (error) {\n",
              "        console.error('Error during call to suggestCharts:', error);\n",
              "      }\n",
              "      quickchartButtonEl.classList.remove('colab-df-spinner');\n",
              "      quickchartButtonEl.classList.add('colab-df-quickchart-complete');\n",
              "    }\n",
              "    (() => {\n",
              "      let quickchartButtonEl =\n",
              "        document.querySelector('#df-8aeeb079-07d0-4b5b-a37d-03b6ffa5c533 button');\n",
              "      quickchartButtonEl.style.display =\n",
              "        google.colab.kernel.accessAllowed ? 'block' : 'none';\n",
              "    })();\n",
              "  </script>\n",
              "</div>\n",
              "    </div>\n",
              "  </div>\n"
            ]
          },
          "metadata": {},
          "execution_count": 6
        }
      ]
    },
    {
      "cell_type": "code",
      "source": [
        "#creating a copy of dataset to perfrm further actions\n",
        "df = bank_data.copy()"
      ],
      "metadata": {
        "id": "hiZazczTa5gr"
      },
      "execution_count": 7,
      "outputs": []
    },
    {
      "cell_type": "code",
      "source": [
        "#drop RowNumber,CustomerId,Surname columns\n",
        "columns_to_drop= ['RowNumber','CustomerId','Surname']\n",
        "df.drop(columns_to_drop, axis=1, inplace=True)"
      ],
      "metadata": {
        "id": "pJ2eRTf2cBjy"
      },
      "execution_count": 8,
      "outputs": []
    },
    {
      "cell_type": "code",
      "source": [
        "#encoding geography and gender columns\n",
        "\n",
        "# Use the get_dummies function to perform one-hot encoding on the specified columns\n",
        "df = pd.get_dummies(df, columns=['Geography', 'Gender'])\n",
        "\n",
        "# Print the first few rows of the encoded DataFrame to see the results\n",
        "df.head()"
      ],
      "metadata": {
        "colab": {
          "base_uri": "https://localhost:8080/",
          "height": 226
        },
        "id": "DYzbxARJb7oG",
        "outputId": "83ed91d2-6dba-4e9f-ffd2-c3b06110f865"
      },
      "execution_count": 9,
      "outputs": [
        {
          "output_type": "execute_result",
          "data": {
            "text/plain": [
              "   CreditScore  Age  Tenure    Balance  NumOfProducts  HasCrCard  \\\n",
              "0          619   42       2       0.00              1          1   \n",
              "1          608   41       1   83807.86              1          0   \n",
              "2          502   42       8  159660.80              3          1   \n",
              "3          699   39       1       0.00              2          0   \n",
              "4          850   43       2  125510.82              1          1   \n",
              "\n",
              "   IsActiveMember  EstimatedSalary  Exited  Geography_France  \\\n",
              "0               1        101348.88       1                 1   \n",
              "1               1        112542.58       0                 0   \n",
              "2               0        113931.57       1                 1   \n",
              "3               0         93826.63       0                 1   \n",
              "4               1         79084.10       0                 0   \n",
              "\n",
              "   Geography_Germany  Geography_Spain  Gender_Female  Gender_Male  \n",
              "0                  0                0              1            0  \n",
              "1                  0                1              1            0  \n",
              "2                  0                0              1            0  \n",
              "3                  0                0              1            0  \n",
              "4                  0                1              1            0  "
            ],
            "text/html": [
              "\n",
              "  <div id=\"df-21bfb60a-6e76-49cf-a097-9bbd2ae0e396\" class=\"colab-df-container\">\n",
              "    <div>\n",
              "<style scoped>\n",
              "    .dataframe tbody tr th:only-of-type {\n",
              "        vertical-align: middle;\n",
              "    }\n",
              "\n",
              "    .dataframe tbody tr th {\n",
              "        vertical-align: top;\n",
              "    }\n",
              "\n",
              "    .dataframe thead th {\n",
              "        text-align: right;\n",
              "    }\n",
              "</style>\n",
              "<table border=\"1\" class=\"dataframe\">\n",
              "  <thead>\n",
              "    <tr style=\"text-align: right;\">\n",
              "      <th></th>\n",
              "      <th>CreditScore</th>\n",
              "      <th>Age</th>\n",
              "      <th>Tenure</th>\n",
              "      <th>Balance</th>\n",
              "      <th>NumOfProducts</th>\n",
              "      <th>HasCrCard</th>\n",
              "      <th>IsActiveMember</th>\n",
              "      <th>EstimatedSalary</th>\n",
              "      <th>Exited</th>\n",
              "      <th>Geography_France</th>\n",
              "      <th>Geography_Germany</th>\n",
              "      <th>Geography_Spain</th>\n",
              "      <th>Gender_Female</th>\n",
              "      <th>Gender_Male</th>\n",
              "    </tr>\n",
              "  </thead>\n",
              "  <tbody>\n",
              "    <tr>\n",
              "      <th>0</th>\n",
              "      <td>619</td>\n",
              "      <td>42</td>\n",
              "      <td>2</td>\n",
              "      <td>0.00</td>\n",
              "      <td>1</td>\n",
              "      <td>1</td>\n",
              "      <td>1</td>\n",
              "      <td>101348.88</td>\n",
              "      <td>1</td>\n",
              "      <td>1</td>\n",
              "      <td>0</td>\n",
              "      <td>0</td>\n",
              "      <td>1</td>\n",
              "      <td>0</td>\n",
              "    </tr>\n",
              "    <tr>\n",
              "      <th>1</th>\n",
              "      <td>608</td>\n",
              "      <td>41</td>\n",
              "      <td>1</td>\n",
              "      <td>83807.86</td>\n",
              "      <td>1</td>\n",
              "      <td>0</td>\n",
              "      <td>1</td>\n",
              "      <td>112542.58</td>\n",
              "      <td>0</td>\n",
              "      <td>0</td>\n",
              "      <td>0</td>\n",
              "      <td>1</td>\n",
              "      <td>1</td>\n",
              "      <td>0</td>\n",
              "    </tr>\n",
              "    <tr>\n",
              "      <th>2</th>\n",
              "      <td>502</td>\n",
              "      <td>42</td>\n",
              "      <td>8</td>\n",
              "      <td>159660.80</td>\n",
              "      <td>3</td>\n",
              "      <td>1</td>\n",
              "      <td>0</td>\n",
              "      <td>113931.57</td>\n",
              "      <td>1</td>\n",
              "      <td>1</td>\n",
              "      <td>0</td>\n",
              "      <td>0</td>\n",
              "      <td>1</td>\n",
              "      <td>0</td>\n",
              "    </tr>\n",
              "    <tr>\n",
              "      <th>3</th>\n",
              "      <td>699</td>\n",
              "      <td>39</td>\n",
              "      <td>1</td>\n",
              "      <td>0.00</td>\n",
              "      <td>2</td>\n",
              "      <td>0</td>\n",
              "      <td>0</td>\n",
              "      <td>93826.63</td>\n",
              "      <td>0</td>\n",
              "      <td>1</td>\n",
              "      <td>0</td>\n",
              "      <td>0</td>\n",
              "      <td>1</td>\n",
              "      <td>0</td>\n",
              "    </tr>\n",
              "    <tr>\n",
              "      <th>4</th>\n",
              "      <td>850</td>\n",
              "      <td>43</td>\n",
              "      <td>2</td>\n",
              "      <td>125510.82</td>\n",
              "      <td>1</td>\n",
              "      <td>1</td>\n",
              "      <td>1</td>\n",
              "      <td>79084.10</td>\n",
              "      <td>0</td>\n",
              "      <td>0</td>\n",
              "      <td>0</td>\n",
              "      <td>1</td>\n",
              "      <td>1</td>\n",
              "      <td>0</td>\n",
              "    </tr>\n",
              "  </tbody>\n",
              "</table>\n",
              "</div>\n",
              "    <div class=\"colab-df-buttons\">\n",
              "\n",
              "  <div class=\"colab-df-container\">\n",
              "    <button class=\"colab-df-convert\" onclick=\"convertToInteractive('df-21bfb60a-6e76-49cf-a097-9bbd2ae0e396')\"\n",
              "            title=\"Convert this dataframe to an interactive table.\"\n",
              "            style=\"display:none;\">\n",
              "\n",
              "  <svg xmlns=\"http://www.w3.org/2000/svg\" height=\"24px\" viewBox=\"0 -960 960 960\">\n",
              "    <path d=\"M120-120v-720h720v720H120Zm60-500h600v-160H180v160Zm220 220h160v-160H400v160Zm0 220h160v-160H400v160ZM180-400h160v-160H180v160Zm440 0h160v-160H620v160ZM180-180h160v-160H180v160Zm440 0h160v-160H620v160Z\"/>\n",
              "  </svg>\n",
              "    </button>\n",
              "\n",
              "  <style>\n",
              "    .colab-df-container {\n",
              "      display:flex;\n",
              "      gap: 12px;\n",
              "    }\n",
              "\n",
              "    .colab-df-convert {\n",
              "      background-color: #E8F0FE;\n",
              "      border: none;\n",
              "      border-radius: 50%;\n",
              "      cursor: pointer;\n",
              "      display: none;\n",
              "      fill: #1967D2;\n",
              "      height: 32px;\n",
              "      padding: 0 0 0 0;\n",
              "      width: 32px;\n",
              "    }\n",
              "\n",
              "    .colab-df-convert:hover {\n",
              "      background-color: #E2EBFA;\n",
              "      box-shadow: 0px 1px 2px rgba(60, 64, 67, 0.3), 0px 1px 3px 1px rgba(60, 64, 67, 0.15);\n",
              "      fill: #174EA6;\n",
              "    }\n",
              "\n",
              "    .colab-df-buttons div {\n",
              "      margin-bottom: 4px;\n",
              "    }\n",
              "\n",
              "    [theme=dark] .colab-df-convert {\n",
              "      background-color: #3B4455;\n",
              "      fill: #D2E3FC;\n",
              "    }\n",
              "\n",
              "    [theme=dark] .colab-df-convert:hover {\n",
              "      background-color: #434B5C;\n",
              "      box-shadow: 0px 1px 3px 1px rgba(0, 0, 0, 0.15);\n",
              "      filter: drop-shadow(0px 1px 2px rgba(0, 0, 0, 0.3));\n",
              "      fill: #FFFFFF;\n",
              "    }\n",
              "  </style>\n",
              "\n",
              "    <script>\n",
              "      const buttonEl =\n",
              "        document.querySelector('#df-21bfb60a-6e76-49cf-a097-9bbd2ae0e396 button.colab-df-convert');\n",
              "      buttonEl.style.display =\n",
              "        google.colab.kernel.accessAllowed ? 'block' : 'none';\n",
              "\n",
              "      async function convertToInteractive(key) {\n",
              "        const element = document.querySelector('#df-21bfb60a-6e76-49cf-a097-9bbd2ae0e396');\n",
              "        const dataTable =\n",
              "          await google.colab.kernel.invokeFunction('convertToInteractive',\n",
              "                                                    [key], {});\n",
              "        if (!dataTable) return;\n",
              "\n",
              "        const docLinkHtml = 'Like what you see? Visit the ' +\n",
              "          '<a target=\"_blank\" href=https://colab.research.google.com/notebooks/data_table.ipynb>data table notebook</a>'\n",
              "          + ' to learn more about interactive tables.';\n",
              "        element.innerHTML = '';\n",
              "        dataTable['output_type'] = 'display_data';\n",
              "        await google.colab.output.renderOutput(dataTable, element);\n",
              "        const docLink = document.createElement('div');\n",
              "        docLink.innerHTML = docLinkHtml;\n",
              "        element.appendChild(docLink);\n",
              "      }\n",
              "    </script>\n",
              "  </div>\n",
              "\n",
              "\n",
              "<div id=\"df-8f6948da-0009-43d1-ab16-687a61e0ed4d\">\n",
              "  <button class=\"colab-df-quickchart\" onclick=\"quickchart('df-8f6948da-0009-43d1-ab16-687a61e0ed4d')\"\n",
              "            title=\"Suggest charts.\"\n",
              "            style=\"display:none;\">\n",
              "\n",
              "<svg xmlns=\"http://www.w3.org/2000/svg\" height=\"24px\"viewBox=\"0 0 24 24\"\n",
              "     width=\"24px\">\n",
              "    <g>\n",
              "        <path d=\"M19 3H5c-1.1 0-2 .9-2 2v14c0 1.1.9 2 2 2h14c1.1 0 2-.9 2-2V5c0-1.1-.9-2-2-2zM9 17H7v-7h2v7zm4 0h-2V7h2v10zm4 0h-2v-4h2v4z\"/>\n",
              "    </g>\n",
              "</svg>\n",
              "  </button>\n",
              "\n",
              "<style>\n",
              "  .colab-df-quickchart {\n",
              "      --bg-color: #E8F0FE;\n",
              "      --fill-color: #1967D2;\n",
              "      --hover-bg-color: #E2EBFA;\n",
              "      --hover-fill-color: #174EA6;\n",
              "      --disabled-fill-color: #AAA;\n",
              "      --disabled-bg-color: #DDD;\n",
              "  }\n",
              "\n",
              "  [theme=dark] .colab-df-quickchart {\n",
              "      --bg-color: #3B4455;\n",
              "      --fill-color: #D2E3FC;\n",
              "      --hover-bg-color: #434B5C;\n",
              "      --hover-fill-color: #FFFFFF;\n",
              "      --disabled-bg-color: #3B4455;\n",
              "      --disabled-fill-color: #666;\n",
              "  }\n",
              "\n",
              "  .colab-df-quickchart {\n",
              "    background-color: var(--bg-color);\n",
              "    border: none;\n",
              "    border-radius: 50%;\n",
              "    cursor: pointer;\n",
              "    display: none;\n",
              "    fill: var(--fill-color);\n",
              "    height: 32px;\n",
              "    padding: 0;\n",
              "    width: 32px;\n",
              "  }\n",
              "\n",
              "  .colab-df-quickchart:hover {\n",
              "    background-color: var(--hover-bg-color);\n",
              "    box-shadow: 0 1px 2px rgba(60, 64, 67, 0.3), 0 1px 3px 1px rgba(60, 64, 67, 0.15);\n",
              "    fill: var(--button-hover-fill-color);\n",
              "  }\n",
              "\n",
              "  .colab-df-quickchart-complete:disabled,\n",
              "  .colab-df-quickchart-complete:disabled:hover {\n",
              "    background-color: var(--disabled-bg-color);\n",
              "    fill: var(--disabled-fill-color);\n",
              "    box-shadow: none;\n",
              "  }\n",
              "\n",
              "  .colab-df-spinner {\n",
              "    border: 2px solid var(--fill-color);\n",
              "    border-color: transparent;\n",
              "    border-bottom-color: var(--fill-color);\n",
              "    animation:\n",
              "      spin 1s steps(1) infinite;\n",
              "  }\n",
              "\n",
              "  @keyframes spin {\n",
              "    0% {\n",
              "      border-color: transparent;\n",
              "      border-bottom-color: var(--fill-color);\n",
              "      border-left-color: var(--fill-color);\n",
              "    }\n",
              "    20% {\n",
              "      border-color: transparent;\n",
              "      border-left-color: var(--fill-color);\n",
              "      border-top-color: var(--fill-color);\n",
              "    }\n",
              "    30% {\n",
              "      border-color: transparent;\n",
              "      border-left-color: var(--fill-color);\n",
              "      border-top-color: var(--fill-color);\n",
              "      border-right-color: var(--fill-color);\n",
              "    }\n",
              "    40% {\n",
              "      border-color: transparent;\n",
              "      border-right-color: var(--fill-color);\n",
              "      border-top-color: var(--fill-color);\n",
              "    }\n",
              "    60% {\n",
              "      border-color: transparent;\n",
              "      border-right-color: var(--fill-color);\n",
              "    }\n",
              "    80% {\n",
              "      border-color: transparent;\n",
              "      border-right-color: var(--fill-color);\n",
              "      border-bottom-color: var(--fill-color);\n",
              "    }\n",
              "    90% {\n",
              "      border-color: transparent;\n",
              "      border-bottom-color: var(--fill-color);\n",
              "    }\n",
              "  }\n",
              "</style>\n",
              "\n",
              "  <script>\n",
              "    async function quickchart(key) {\n",
              "      const quickchartButtonEl =\n",
              "        document.querySelector('#' + key + ' button');\n",
              "      quickchartButtonEl.disabled = true;  // To prevent multiple clicks.\n",
              "      quickchartButtonEl.classList.add('colab-df-spinner');\n",
              "      try {\n",
              "        const charts = await google.colab.kernel.invokeFunction(\n",
              "            'suggestCharts', [key], {});\n",
              "      } catch (error) {\n",
              "        console.error('Error during call to suggestCharts:', error);\n",
              "      }\n",
              "      quickchartButtonEl.classList.remove('colab-df-spinner');\n",
              "      quickchartButtonEl.classList.add('colab-df-quickchart-complete');\n",
              "    }\n",
              "    (() => {\n",
              "      let quickchartButtonEl =\n",
              "        document.querySelector('#df-8f6948da-0009-43d1-ab16-687a61e0ed4d button');\n",
              "      quickchartButtonEl.style.display =\n",
              "        google.colab.kernel.accessAllowed ? 'block' : 'none';\n",
              "    })();\n",
              "  </script>\n",
              "</div>\n",
              "    </div>\n",
              "  </div>\n"
            ]
          },
          "metadata": {},
          "execution_count": 9
        }
      ]
    },
    {
      "cell_type": "markdown",
      "source": [
        "## Train-Test Split:\n",
        "\n",
        "Split the data into training and testing sets to evaluate the model's performance."
      ],
      "metadata": {
        "id": "NRLh9GMcShRh"
      }
    },
    {
      "cell_type": "code",
      "source": [
        "# Separate the features (X) and the target (y) from the DataFrame\n",
        "X = df.drop(columns=['Exited'])  # Excluding the 'Exited' column as it is the target variable\n",
        "y = df['Exited']"
      ],
      "metadata": {
        "id": "zn5hF-ZMdof-"
      },
      "execution_count": 10,
      "outputs": []
    },
    {
      "cell_type": "code",
      "source": [
        "# Split the data into training and testing sets\n",
        "X_train, X_test, y_train, y_test = train_test_split(X, y, test_size=0.2, random_state=0)\n",
        "\n",
        "# Print the dimensions of the training and testing sets\n",
        "print(\"X_train shape:\", X_train.shape)\n",
        "print(\"X_test shape:\", X_test.shape)\n",
        "print(\"y_train shape:\", y_train.shape)\n",
        "print(\"y_test shape:\", y_test.shape)"
      ],
      "metadata": {
        "colab": {
          "base_uri": "https://localhost:8080/"
        },
        "id": "tS7S7-QUe6TJ",
        "outputId": "b48349f4-f6fe-4952-be69-4f3d86166f5c"
      },
      "execution_count": 11,
      "outputs": [
        {
          "output_type": "stream",
          "name": "stdout",
          "text": [
            "X_train shape: (8000, 13)\n",
            "X_test shape: (2000, 13)\n",
            "y_train shape: (8000,)\n",
            "y_test shape: (2000,)\n"
          ]
        }
      ]
    },
    {
      "cell_type": "markdown",
      "source": [
        "## Data Scaling:\n",
        "Apply data scaling to ensure that features are on the same scale."
      ],
      "metadata": {
        "id": "ZZyXEzZgSnDo"
      }
    },
    {
      "cell_type": "code",
      "source": [
        "# Import the StandardScaler from scikit-learn to standardize the features.\n",
        "from sklearn.preprocessing import StandardScaler\n",
        "\n",
        "# Create a StandardScaler object.\n",
        "scaler = StandardScaler()\n",
        "\n",
        "# Standardize the training data (X_train) to have a mean of 0 and a standard deviation of 1.\n",
        "X_train = scaler.fit_transform(X_train)\n",
        "\n",
        "# Standardize the test data (X_test) using the same scaling parameters as the training data.\n",
        "X_test = scaler.transform(X_test)"
      ],
      "metadata": {
        "id": "ZMFjyQyJfM7T"
      },
      "execution_count": 12,
      "outputs": []
    },
    {
      "cell_type": "markdown",
      "source": [
        "# Model bulding"
      ],
      "metadata": {
        "id": "19cjzo7PfTvM"
      }
    },
    {
      "cell_type": "code",
      "source": [
        "# Checking the tensorflow version\n",
        "print(tf.__version__)"
      ],
      "metadata": {
        "colab": {
          "base_uri": "https://localhost:8080/"
        },
        "id": "9bGMaYH1fSR0",
        "outputId": "143e79ae-1537-4630-8331-8a5f4a652b72"
      },
      "execution_count": 13,
      "outputs": [
        {
          "output_type": "stream",
          "name": "stdout",
          "text": [
            "2.13.0\n"
          ]
        }
      ]
    },
    {
      "cell_type": "markdown",
      "source": [
        "## Create a Sequential Neural Network Model:\n",
        "Build a deep learning model using Keras' Sequential API. Define the architecture, including the number of layers, units, activation functions, and input dimensions."
      ],
      "metadata": {
        "id": "FrhzncNeSt0q"
      }
    },
    {
      "cell_type": "code",
      "source": [
        "# Import the necessary modules and classes from TensorFlow Keras for building a neural network.\n",
        "\n",
        "# Import the TensorFlow Keras library.\n",
        "import tensorflow.keras\n",
        "\n",
        "# Import the Sequential model, which is used for creating a sequential neural network.\n",
        "from tensorflow.keras.models import Sequential\n",
        "\n",
        "# Import the Dense layer, which is used for adding fully connected (dense) layers to the neural network.\n",
        "from tensorflow.keras.layers import Dense\n",
        "\n",
        "# Import the Dropout layer, which is used for adding dropout regularization to prevent overfitting.\n",
        "from tensorflow.keras.layers import Dropout"
      ],
      "metadata": {
        "id": "OK7vq8PLfxvU"
      },
      "execution_count": 14,
      "outputs": []
    },
    {
      "cell_type": "code",
      "source": [
        "# Create a sequential neural network model.\n",
        "\n",
        "# Calculate the input dimension based on the DataFrame with one-hot encoding\n",
        "input_dim = len(df.columns) - 1\n",
        "\n",
        "# Initialize the sequential model.\n",
        "classifier = Sequential()\n",
        "\n",
        "# Add the first hidden layer with 10 units, ReLU activation, and He normal initialization.\n",
        "# The input_dim specifies the number of input features (in this case, 170).\n",
        "classifier.add(Dense(units=10, kernel_initializer='he_uniform', activation='relu', input_dim=input_dim))\n",
        "\n",
        "# Add a second hidden layer with 10 units, ReLU activation, and He normal initialization.\n",
        "classifier.add(Dense(units=10, kernel_initializer='he_uniform', activation='relu'))\n",
        "\n",
        "# Add the output layer with 1 unit, sigmoid activation, and Glorot (Xavier) initialization.\n",
        "classifier.add(Dense(units=1, kernel_initializer='glorot_uniform', activation='sigmoid'))"
      ],
      "metadata": {
        "id": "XQojncxPf2ac"
      },
      "execution_count": 15,
      "outputs": []
    },
    {
      "cell_type": "markdown",
      "source": [
        "## Compile the Neural Network Model:\n",
        "Configure the model by specifying the optimizer, loss function, and evaluation metrics."
      ],
      "metadata": {
        "id": "9XzDhENcS4xh"
      }
    },
    {
      "cell_type": "code",
      "source": [
        "# Compile the neural network model.\n",
        "\n",
        "# Use the Adam optimizer, which is a popular optimization algorithm for training neural networks.\n",
        "optimizer = 'adam'\n",
        "\n",
        "# Use binary cross-entropy loss function for binary classification tasks.\n",
        "loss = 'binary_crossentropy'\n",
        "\n",
        "# Specify 'accuracy' as a metric to track during training.\n",
        "metrics = ['accuracy']\n",
        "\n",
        "# Compile the model with the specified optimizer, loss function, and metrics.\n",
        "classifier.compile(optimizer=optimizer, loss=loss, metrics=metrics)"
      ],
      "metadata": {
        "id": "9Qk6gpWYfolt"
      },
      "execution_count": 16,
      "outputs": []
    },
    {
      "cell_type": "code",
      "source": [
        "# Display a summary of the neural network model's architecture.\n",
        "\n",
        "# Use the summary method to print a summary of the model's layers, parameters, and output shapes.\n",
        "classifier.summary()"
      ],
      "metadata": {
        "colab": {
          "base_uri": "https://localhost:8080/"
        },
        "id": "nQHPZFu_gicT",
        "outputId": "ee9d04e1-4a4c-4aa6-9b9e-e78525074c5a"
      },
      "execution_count": 17,
      "outputs": [
        {
          "output_type": "stream",
          "name": "stdout",
          "text": [
            "Model: \"sequential\"\n",
            "_________________________________________________________________\n",
            " Layer (type)                Output Shape              Param #   \n",
            "=================================================================\n",
            " dense (Dense)               (None, 10)                140       \n",
            "                                                                 \n",
            " dense_1 (Dense)             (None, 10)                110       \n",
            "                                                                 \n",
            " dense_2 (Dense)             (None, 1)                 11        \n",
            "                                                                 \n",
            "=================================================================\n",
            "Total params: 261 (1.02 KB)\n",
            "Trainable params: 261 (1.02 KB)\n",
            "Non-trainable params: 0 (0.00 Byte)\n",
            "_________________________________________________________________\n"
          ]
        }
      ]
    },
    {
      "cell_type": "markdown",
      "source": [
        "## Train the Neural Network Model:\n",
        "Train the model on the training data and visualize the training and validation accuracy and loss curves."
      ],
      "metadata": {
        "id": "_nvnICleS-Qp"
      }
    },
    {
      "cell_type": "code",
      "source": [
        "# Train the neural network model and store the training history.\n",
        "\n",
        "# Input:\n",
        "# - X_train: Training data features.\n",
        "# - y_train: Training data labels.\n",
        "# - batch_size: Number of samples in each mini-batch during training (here, set to 10).\n",
        "# - epochs: Number of times the entire training dataset is passed forward and backward through the network (here, set to 30).\n",
        "# - validation_split: Fraction of the training data to be used for validation (here, set to 25%).\n",
        "\n",
        "# The fit method trains the model on the training data and returns a history object that contains information about the training process.\n",
        "model = classifier.fit(X_train, y_train, batch_size=10, epochs=50, validation_split=0.25)"
      ],
      "metadata": {
        "colab": {
          "base_uri": "https://localhost:8080/"
        },
        "id": "BIXpqmUCgu_T",
        "outputId": "8f244851-f950-4139-9bb9-e88e5953f5cc"
      },
      "execution_count": 18,
      "outputs": [
        {
          "output_type": "stream",
          "name": "stdout",
          "text": [
            "Epoch 1/50\n",
            "600/600 [==============================] - 9s 4ms/step - loss: 0.4815 - accuracy: 0.7862 - val_loss: 0.4602 - val_accuracy: 0.7960\n",
            "Epoch 2/50\n",
            "600/600 [==============================] - 2s 4ms/step - loss: 0.4484 - accuracy: 0.7975 - val_loss: 0.4471 - val_accuracy: 0.8025\n",
            "Epoch 3/50\n",
            "600/600 [==============================] - 3s 4ms/step - loss: 0.4340 - accuracy: 0.8072 - val_loss: 0.4402 - val_accuracy: 0.8095\n",
            "Epoch 4/50\n",
            "600/600 [==============================] - 2s 3ms/step - loss: 0.4260 - accuracy: 0.8158 - val_loss: 0.4347 - val_accuracy: 0.8145\n",
            "Epoch 5/50\n",
            "600/600 [==============================] - 2s 3ms/step - loss: 0.4188 - accuracy: 0.8235 - val_loss: 0.4299 - val_accuracy: 0.8170\n",
            "Epoch 6/50\n",
            "600/600 [==============================] - 2s 3ms/step - loss: 0.4134 - accuracy: 0.8270 - val_loss: 0.4249 - val_accuracy: 0.8180\n",
            "Epoch 7/50\n",
            "600/600 [==============================] - 2s 3ms/step - loss: 0.4080 - accuracy: 0.8277 - val_loss: 0.4213 - val_accuracy: 0.8155\n",
            "Epoch 8/50\n",
            "600/600 [==============================] - 2s 4ms/step - loss: 0.4044 - accuracy: 0.8295 - val_loss: 0.4178 - val_accuracy: 0.8200\n",
            "Epoch 9/50\n",
            "600/600 [==============================] - 2s 4ms/step - loss: 0.4000 - accuracy: 0.8315 - val_loss: 0.4137 - val_accuracy: 0.8215\n",
            "Epoch 10/50\n",
            "600/600 [==============================] - 2s 3ms/step - loss: 0.3932 - accuracy: 0.8360 - val_loss: 0.4099 - val_accuracy: 0.8280\n",
            "Epoch 11/50\n",
            "600/600 [==============================] - 2s 3ms/step - loss: 0.3854 - accuracy: 0.8408 - val_loss: 0.4022 - val_accuracy: 0.8305\n",
            "Epoch 12/50\n",
            "600/600 [==============================] - 2s 3ms/step - loss: 0.3752 - accuracy: 0.8472 - val_loss: 0.3916 - val_accuracy: 0.8390\n",
            "Epoch 13/50\n",
            "600/600 [==============================] - 2s 3ms/step - loss: 0.3644 - accuracy: 0.8542 - val_loss: 0.3828 - val_accuracy: 0.8430\n",
            "Epoch 14/50\n",
            "600/600 [==============================] - 2s 4ms/step - loss: 0.3561 - accuracy: 0.8548 - val_loss: 0.3748 - val_accuracy: 0.8470\n",
            "Epoch 15/50\n",
            "600/600 [==============================] - 2s 4ms/step - loss: 0.3499 - accuracy: 0.8598 - val_loss: 0.3693 - val_accuracy: 0.8510\n",
            "Epoch 16/50\n",
            "600/600 [==============================] - 2s 4ms/step - loss: 0.3467 - accuracy: 0.8603 - val_loss: 0.3672 - val_accuracy: 0.8465\n",
            "Epoch 17/50\n",
            "600/600 [==============================] - 2s 4ms/step - loss: 0.3447 - accuracy: 0.8605 - val_loss: 0.3622 - val_accuracy: 0.8520\n",
            "Epoch 18/50\n",
            "600/600 [==============================] - 2s 3ms/step - loss: 0.3418 - accuracy: 0.8597 - val_loss: 0.3625 - val_accuracy: 0.8500\n",
            "Epoch 19/50\n",
            "600/600 [==============================] - 2s 4ms/step - loss: 0.3409 - accuracy: 0.8607 - val_loss: 0.3615 - val_accuracy: 0.8525\n",
            "Epoch 20/50\n",
            "600/600 [==============================] - 2s 4ms/step - loss: 0.3400 - accuracy: 0.8595 - val_loss: 0.3590 - val_accuracy: 0.8520\n",
            "Epoch 21/50\n",
            "600/600 [==============================] - 2s 3ms/step - loss: 0.3389 - accuracy: 0.8610 - val_loss: 0.3578 - val_accuracy: 0.8540\n",
            "Epoch 22/50\n",
            "600/600 [==============================] - 2s 3ms/step - loss: 0.3386 - accuracy: 0.8605 - val_loss: 0.3570 - val_accuracy: 0.8500\n",
            "Epoch 23/50\n",
            "600/600 [==============================] - 2s 3ms/step - loss: 0.3372 - accuracy: 0.8587 - val_loss: 0.3600 - val_accuracy: 0.8510\n",
            "Epoch 24/50\n",
            "600/600 [==============================] - 2s 3ms/step - loss: 0.3375 - accuracy: 0.8597 - val_loss: 0.3558 - val_accuracy: 0.8550\n",
            "Epoch 25/50\n",
            "600/600 [==============================] - 2s 4ms/step - loss: 0.3365 - accuracy: 0.8605 - val_loss: 0.3537 - val_accuracy: 0.8550\n",
            "Epoch 26/50\n",
            "600/600 [==============================] - 3s 5ms/step - loss: 0.3354 - accuracy: 0.8592 - val_loss: 0.3551 - val_accuracy: 0.8555\n",
            "Epoch 27/50\n",
            "600/600 [==============================] - 2s 3ms/step - loss: 0.3350 - accuracy: 0.8597 - val_loss: 0.3551 - val_accuracy: 0.8545\n",
            "Epoch 28/50\n",
            "600/600 [==============================] - 2s 3ms/step - loss: 0.3349 - accuracy: 0.8620 - val_loss: 0.3536 - val_accuracy: 0.8580\n",
            "Epoch 29/50\n",
            "600/600 [==============================] - 2s 4ms/step - loss: 0.3344 - accuracy: 0.8637 - val_loss: 0.3542 - val_accuracy: 0.8545\n",
            "Epoch 30/50\n",
            "600/600 [==============================] - 2s 3ms/step - loss: 0.3340 - accuracy: 0.8617 - val_loss: 0.3547 - val_accuracy: 0.8580\n",
            "Epoch 31/50\n",
            "600/600 [==============================] - 3s 5ms/step - loss: 0.3333 - accuracy: 0.8630 - val_loss: 0.3533 - val_accuracy: 0.8515\n",
            "Epoch 32/50\n",
            "600/600 [==============================] - 2s 3ms/step - loss: 0.3334 - accuracy: 0.8635 - val_loss: 0.3537 - val_accuracy: 0.8545\n",
            "Epoch 33/50\n",
            "600/600 [==============================] - 2s 3ms/step - loss: 0.3330 - accuracy: 0.8622 - val_loss: 0.3535 - val_accuracy: 0.8560\n",
            "Epoch 34/50\n",
            "600/600 [==============================] - 2s 3ms/step - loss: 0.3332 - accuracy: 0.8615 - val_loss: 0.3552 - val_accuracy: 0.8555\n",
            "Epoch 35/50\n",
            "600/600 [==============================] - 2s 3ms/step - loss: 0.3330 - accuracy: 0.8635 - val_loss: 0.3529 - val_accuracy: 0.8575\n",
            "Epoch 36/50\n",
            "600/600 [==============================] - 2s 3ms/step - loss: 0.3324 - accuracy: 0.8638 - val_loss: 0.3556 - val_accuracy: 0.8555\n",
            "Epoch 37/50\n",
            "600/600 [==============================] - 3s 5ms/step - loss: 0.3323 - accuracy: 0.8628 - val_loss: 0.3548 - val_accuracy: 0.8535\n",
            "Epoch 38/50\n",
            "600/600 [==============================] - 2s 3ms/step - loss: 0.3311 - accuracy: 0.8643 - val_loss: 0.3562 - val_accuracy: 0.8525\n",
            "Epoch 39/50\n",
            "600/600 [==============================] - 2s 3ms/step - loss: 0.3315 - accuracy: 0.8625 - val_loss: 0.3537 - val_accuracy: 0.8520\n",
            "Epoch 40/50\n",
            "600/600 [==============================] - 2s 3ms/step - loss: 0.3317 - accuracy: 0.8615 - val_loss: 0.3525 - val_accuracy: 0.8540\n",
            "Epoch 41/50\n",
            "600/600 [==============================] - 2s 4ms/step - loss: 0.3316 - accuracy: 0.8638 - val_loss: 0.3518 - val_accuracy: 0.8555\n",
            "Epoch 42/50\n",
            "600/600 [==============================] - 2s 4ms/step - loss: 0.3311 - accuracy: 0.8642 - val_loss: 0.3531 - val_accuracy: 0.8550\n",
            "Epoch 43/50\n",
            "600/600 [==============================] - 3s 5ms/step - loss: 0.3305 - accuracy: 0.8643 - val_loss: 0.3524 - val_accuracy: 0.8570\n",
            "Epoch 44/50\n",
            "600/600 [==============================] - 2s 3ms/step - loss: 0.3308 - accuracy: 0.8633 - val_loss: 0.3533 - val_accuracy: 0.8545\n",
            "Epoch 45/50\n",
            "600/600 [==============================] - 2s 4ms/step - loss: 0.3300 - accuracy: 0.8653 - val_loss: 0.3537 - val_accuracy: 0.8535\n",
            "Epoch 46/50\n",
            "600/600 [==============================] - 2s 4ms/step - loss: 0.3306 - accuracy: 0.8628 - val_loss: 0.3520 - val_accuracy: 0.8540\n",
            "Epoch 47/50\n",
            "600/600 [==============================] - 2s 3ms/step - loss: 0.3301 - accuracy: 0.8638 - val_loss: 0.3521 - val_accuracy: 0.8530\n",
            "Epoch 48/50\n",
            "600/600 [==============================] - 3s 6ms/step - loss: 0.3292 - accuracy: 0.8627 - val_loss: 0.3511 - val_accuracy: 0.8545\n",
            "Epoch 49/50\n",
            "600/600 [==============================] - 2s 4ms/step - loss: 0.3291 - accuracy: 0.8630 - val_loss: 0.3536 - val_accuracy: 0.8530\n",
            "Epoch 50/50\n",
            "600/600 [==============================] - 2s 3ms/step - loss: 0.3294 - accuracy: 0.8635 - val_loss: 0.3520 - val_accuracy: 0.8565\n"
          ]
        }
      ]
    },
    {
      "cell_type": "code",
      "source": [
        "# Retrieve the keys available in the training history dictionary.\n",
        "\n",
        "# The training history dictionary contains metrics and measurements tracked during the training process.\n",
        "# The keys represent specific metrics, such as training loss, training accuracy, validation loss, and validation accuracy.\n",
        "# By using model_history.history.keys(), we can access these keys to analyze and visualize the training progress.\n",
        "model.history.keys()"
      ],
      "metadata": {
        "colab": {
          "base_uri": "https://localhost:8080/"
        },
        "id": "1VKemKMYg8V7",
        "outputId": "cf677d22-97cf-4f67-f183-4db8fc265278"
      },
      "execution_count": 19,
      "outputs": [
        {
          "output_type": "execute_result",
          "data": {
            "text/plain": [
              "dict_keys(['loss', 'accuracy', 'val_loss', 'val_accuracy'])"
            ]
          },
          "metadata": {},
          "execution_count": 19
        }
      ]
    },
    {
      "cell_type": "code",
      "source": [
        "# Access the training accuracy values from the training history.\n",
        "\n",
        "# The model_history object contains a history dictionary with metrics recorded during training.\n",
        "# Using 'accuracy' as the key, we retrieve the training accuracy values at each epoch.\n",
        "model.history['accuracy']"
      ],
      "metadata": {
        "colab": {
          "base_uri": "https://localhost:8080/"
        },
        "id": "5OOB_PFghKwZ",
        "outputId": "353ccc87-7bfd-4450-8c58-badb5dad8e00"
      },
      "execution_count": 20,
      "outputs": [
        {
          "output_type": "execute_result",
          "data": {
            "text/plain": [
              "[0.7861666679382324,\n",
              " 0.7975000143051147,\n",
              " 0.8071666955947876,\n",
              " 0.815833330154419,\n",
              " 0.8234999775886536,\n",
              " 0.8270000219345093,\n",
              " 0.8276666402816772,\n",
              " 0.8295000195503235,\n",
              " 0.8314999938011169,\n",
              " 0.8360000252723694,\n",
              " 0.840833306312561,\n",
              " 0.8471666574478149,\n",
              " 0.8541666865348816,\n",
              " 0.8548333048820496,\n",
              " 0.8598333597183228,\n",
              " 0.8603333234786987,\n",
              " 0.8604999780654907,\n",
              " 0.859666645526886,\n",
              " 0.8606666922569275,\n",
              " 0.859499990940094,\n",
              " 0.8610000014305115,\n",
              " 0.8604999780654907,\n",
              " 0.8586666584014893,\n",
              " 0.859666645526886,\n",
              " 0.8604999780654907,\n",
              " 0.85916668176651,\n",
              " 0.859666645526886,\n",
              " 0.8619999885559082,\n",
              " 0.8636666536331177,\n",
              " 0.8616666793823242,\n",
              " 0.8629999756813049,\n",
              " 0.8634999990463257,\n",
              " 0.8621666431427002,\n",
              " 0.8615000247955322,\n",
              " 0.8634999990463257,\n",
              " 0.8638333082199097,\n",
              " 0.8628333210945129,\n",
              " 0.8643333315849304,\n",
              " 0.862500011920929,\n",
              " 0.8615000247955322,\n",
              " 0.8638333082199097,\n",
              " 0.8641666769981384,\n",
              " 0.8643333315849304,\n",
              " 0.8633333444595337,\n",
              " 0.8653333187103271,\n",
              " 0.8628333210945129,\n",
              " 0.8638333082199097,\n",
              " 0.862666666507721,\n",
              " 0.8629999756813049,\n",
              " 0.8634999990463257]"
            ]
          },
          "metadata": {},
          "execution_count": 20
        }
      ]
    },
    {
      "cell_type": "code",
      "source": [
        "# Visualize the training and validation accuracy curves.\n",
        "\n",
        "# Plot the training accuracy over epochs.\n",
        "plt.plot(model.history['accuracy'], label='Training Accuracy')\n",
        "\n",
        "# Plot the validation accuracy over epochs.\n",
        "plt.plot(model.history['val_accuracy'], label='Validation Accuracy')\n",
        "\n",
        "# Show the plot.\n",
        "plt.legend()  # Display the legend to distinguish between training and validation curves.\n",
        "plt.xlabel('Epochs')  # Label the x-axis as 'Epochs'.\n",
        "plt.ylabel('Accuracy')  # Label the y-axis as 'Accuracy'.\n",
        "plt.title('Training and Validation Accuracy Curves')  # Add a title to the plot.\n",
        "plt.show()"
      ],
      "metadata": {
        "colab": {
          "base_uri": "https://localhost:8080/",
          "height": 472
        },
        "id": "o7QO8hq7hRYz",
        "outputId": "d8d016de-dd84-4828-93b0-9e7b9a85a43a"
      },
      "execution_count": 21,
      "outputs": [
        {
          "output_type": "display_data",
          "data": {
            "text/plain": [
              "<Figure size 640x480 with 1 Axes>"
            ],
            "image/png": "[encoded data removed]"
          },
          "metadata": {}
        }
      ]
    },
    {
      "cell_type": "code",
      "source": [
        "# Visualize the training and validation loss curves.\n",
        "\n",
        "# Plot the training loss over epochs.\n",
        "plt.plot(model.history['loss'], label='Training Loss')\n",
        "\n",
        "# Plot the validation loss over epochs.\n",
        "plt.plot(model.history['val_loss'], label='Validation Loss')\n",
        "\n",
        "# Show the plot.\n",
        "plt.legend()  # Display the legend to distinguish between training and validation curves.\n",
        "plt.xlabel('Epochs')  # Label the x-axis as 'Epochs'.\n",
        "plt.ylabel('Loss')  # Label the y-axis as 'Loss'.\n",
        "plt.title('Training and Validation Loss Curves')  # Add a title to the plot.\n",
        "plt.show()"
      ],
      "metadata": {
        "colab": {
          "base_uri": "https://localhost:8080/",
          "height": 472
        },
        "id": "BT1aXs-Zo07z",
        "outputId": "9077edca-7a31-4596-933d-5349e494de21"
      },
      "execution_count": 22,
      "outputs": [
        {
          "output_type": "display_data",
          "data": {
            "text/plain": [
              "<Figure size 640x480 with 1 Axes>"
            ],
            "image/png": "[encoded data removed]"
          },
          "metadata": {}
        }
      ]
    },
    {
      "cell_type": "markdown",
      "source": [
        "## Predict and Evaluate Binary Classification Results:\n",
        "Use the trained model to predict customer churn and evaluate its performance using metrics like accuracy and confusion matrix."
      ],
      "metadata": {
        "id": "rvZ5lJQ3TFVL"
      }
    },
    {
      "cell_type": "code",
      "source": [
        "# Predicting and evaluating binary classification results.\n",
        "\n",
        "# Predict class probabilities for the test dataset using the trained model.\n",
        "y_pred_prob =classifier.predict(X_test)\n",
        "\n",
        "# Convert predicted probabilities into binary predictions using a threshold of 0.5.\n",
        "# If the predicted probability is greater than or equal to 0.5, it's classified as 1; otherwise, it's classified as 0.\n",
        "y_pred = (y_pred_prob > 0.5)\n",
        "\n",
        "print(y_pred)"
      ],
      "metadata": {
        "colab": {
          "base_uri": "https://localhost:8080/"
        },
        "id": "BQw4iybYp80v",
        "outputId": "0f968ee6-9b00-44c8-afbb-6305d492b86a"
      },
      "execution_count": 23,
      "outputs": [
        {
          "output_type": "stream",
          "name": "stdout",
          "text": [
            "63/63 [==============================] - 0s 1ms/step\n",
            "[[False]\n",
            " [False]\n",
            " [False]\n",
            " ...\n",
            " [False]\n",
            " [False]\n",
            " [False]]\n"
          ]
        }
      ]
    },
    {
      "cell_type": "code",
      "source": [
        "print(type(y_test))\n",
        "print(type(y_pred))"
      ],
      "metadata": {
        "colab": {
          "base_uri": "https://localhost:8080/"
        },
        "id": "W3hlx0hkqiyP",
        "outputId": "8bf3f656-4d36-4a2b-9d4a-6dbe1c431f80"
      },
      "execution_count": 24,
      "outputs": [
        {
          "output_type": "stream",
          "name": "stdout",
          "text": [
            "<class 'pandas.core.series.Series'>\n",
            "<class 'numpy.ndarray'>\n"
          ]
        }
      ]
    },
    {
      "cell_type": "code",
      "source": [
        "# Convert the pandas Series to numpy arrays before reshaping\n",
        "y_test_array = y_test.to_numpy()\n",
        "\n",
        "# Concatenate and display a comparison between predicted and true labels for evaluation\n",
        "result = np.concatenate((y_pred.reshape(len(y_pred), 1), y_test_array.reshape(len(y_test_array), 1)), axis=1)\n",
        "print(result)"
      ],
      "metadata": {
        "colab": {
          "base_uri": "https://localhost:8080/"
        },
        "id": "0tC2noECtQlB",
        "outputId": "e378414f-3fe1-45ae-e2db-2d7cee9a940d"
      },
      "execution_count": 25,
      "outputs": [
        {
          "output_type": "stream",
          "name": "stdout",
          "text": [
            "[[0 0]\n",
            " [0 1]\n",
            " [0 0]\n",
            " ...\n",
            " [0 0]\n",
            " [0 0]\n",
            " [0 0]]\n"
          ]
        }
      ]
    },
    {
      "cell_type": "code",
      "source": [
        "from sklearn.metrics import confusion_matrix, accuracy_score, classification_report\n",
        "#Confusion Matrix\n",
        "confusion_matrix = confusion_matrix(y_test, y_pred)\n",
        "print(\"Accuracy Score\", accuracy_score(y_test, y_pred))\n",
        "print(\"Confusion Matrix\")\n",
        "print(confusion_matrix)\n",
        "print(classification_report(y_test, y_pred))"
      ],
      "metadata": {
        "colab": {
          "base_uri": "https://localhost:8080/"
        },
        "id": "Pxxr5jeLuXVv",
        "outputId": "3b472e1f-d0d2-480d-bfcf-cb5084371492"
      },
      "execution_count": 26,
      "outputs": [
        {
          "output_type": "stream",
          "name": "stdout",
          "text": [
            "Accuracy Score 0.8565\n",
            "Confusion Matrix\n",
            "[[1498   97]\n",
            " [ 190  215]]\n",
            "              precision    recall  f1-score   support\n",
            "\n",
            "           0       0.89      0.94      0.91      1595\n",
            "           1       0.69      0.53      0.60       405\n",
            "\n",
            "    accuracy                           0.86      2000\n",
            "   macro avg       0.79      0.74      0.76      2000\n",
            "weighted avg       0.85      0.86      0.85      2000\n",
            "\n"
          ]
        }
      ]
    },
    {
      "cell_type": "code",
      "source": [
        "# the goal is to use this ANN model to predict the probability of the customer leaving the bank\n",
        "# Predicting the churn probability for single observations\n",
        "\n",
        "#Geography: French\n",
        "#Credit Score:600\n",
        "#Gender: Male\n",
        "#Age: 40 years old\n",
        "#Tenure: 3 years\n",
        "#Balance: $60000\n",
        "#Number of Products: 2\n",
        "#with Credit Card\n",
        "#Active member\n",
        "#Estimated Salary: $50000\n",
        "\n",
        "# Ignore the feature names warning\n",
        "scaler.feature_names_in_ = None\n",
        "\n",
        "print(classifier.predict(scaler.transform([[1, 0, 0, 600, 1, 0, 40, 3, 60000, 2, 1, 1, 50000]])))\n",
        "print(classifier.predict(scaler.transform([[1, 0, 0, 600, 1, 0, 40, 3, 60000, 2, 1, 1, 50000]])) > 0.5)"
      ],
      "metadata": {
        "colab": {
          "base_uri": "https://localhost:8080/"
        },
        "id": "Uz8yXrh34jZL",
        "outputId": "62810911-e9dc-45f4-8a90-64a4dc37d572"
      },
      "execution_count": 38,
      "outputs": [
        {
          "output_type": "stream",
          "name": "stdout",
          "text": [
            "1/1 [==============================] - 0s 77ms/step\n",
            "[[0.]]\n",
            "1/1 [==============================] - 0s 36ms/step\n",
            "[[False]]\n"
          ]
        }
      ]
    },
    {
      "cell_type": "markdown",
      "source": [
        "## Hyperparameter Tuning:\n",
        "\n",
        "Improve the model's performance through hyperparameter tuning.\n",
        "\n",
        "Build a neural network model with hyperparameters to be tuned.\n",
        "Set up a RandomSearch tuner for hyperparameter optimization.\n",
        "Initiate the hyperparameter search using the Keras Tuner."
      ],
      "metadata": {
        "id": "9PCPL6HTubib"
      }
    },
    {
      "cell_type": "code",
      "source": [
        "#hyperparameter tunig with keras tuner\n",
        "\n",
        "!pip install keras-tuner --upgrade"
      ],
      "metadata": {
        "colab": {
          "base_uri": "https://localhost:8080/"
        },
        "id": "tIVY8MEHvKxC",
        "outputId": "b07522d8-5e80-45da-8a32-a2f991e3fe8f"
      },
      "execution_count": 28,
      "outputs": [
        {
          "output_type": "stream",
          "name": "stdout",
          "text": [
            "Collecting keras-tuner\n",
            "  Downloading keras_tuner-1.4.4-py3-none-any.whl (127 kB)\n",
            "\u001b[2K     \u001b[90m━━━━━━━━━━━━━━━━━━━━━━━━━━━━━━━━━━━━━━━\u001b[0m \u001b[32m128.0/128.0 kB\u001b[0m \u001b[31m3.3 MB/s\u001b[0m eta \u001b[36m0:00:00\u001b[0m\n",
            "\u001b[?25hCollecting keras-core (from keras-tuner)\n",
            "  Downloading keras_core-0.1.7-py3-none-any.whl (950 kB)\n",
            "\u001b[2K     \u001b[90m━━━━━━━━━━━━━━━━━━━━━━━━━━━━━━━━━━━━━━━\u001b[0m \u001b[32m950.8/950.8 kB\u001b[0m \u001b[31m9.9 MB/s\u001b[0m eta \u001b[36m0:00:00\u001b[0m\n",
            "\u001b[?25hRequirement already satisfied: packaging in /usr/local/lib/python3.10/dist-packages (from keras-tuner) (23.2)\n",
            "Requirement already satisfied: requests in /usr/local/lib/python3.10/dist-packages (from keras-tuner) (2.31.0)\n",
            "Collecting kt-legacy (from keras-tuner)\n",
            "  Downloading kt_legacy-1.0.5-py3-none-any.whl (9.6 kB)\n",
            "Requirement already satisfied: absl-py in /usr/local/lib/python3.10/dist-packages (from keras-core->keras-tuner) (1.4.0)\n",
            "Requirement already satisfied: numpy in /usr/local/lib/python3.10/dist-packages (from keras-core->keras-tuner) (1.23.5)\n",
            "Requirement already satisfied: rich in /usr/local/lib/python3.10/dist-packages (from keras-core->keras-tuner) (13.6.0)\n",
            "Collecting namex (from keras-core->keras-tuner)\n",
            "  Downloading namex-0.0.7-py3-none-any.whl (5.8 kB)\n",
            "Requirement already satisfied: h5py in /usr/local/lib/python3.10/dist-packages (from keras-core->keras-tuner) (3.9.0)\n",
            "Requirement already satisfied: dm-tree in /usr/local/lib/python3.10/dist-packages (from keras-core->keras-tuner) (0.1.8)\n",
            "Requirement already satisfied: charset-normalizer<4,>=2 in /usr/local/lib/python3.10/dist-packages (from requests->keras-tuner) (3.3.0)\n",
            "Requirement already satisfied: idna<4,>=2.5 in /usr/local/lib/python3.10/dist-packages (from requests->keras-tuner) (3.4)\n",
            "Requirement already satisfied: urllib3<3,>=1.21.1 in /usr/local/lib/python3.10/dist-packages (from requests->keras-tuner) (2.0.6)\n",
            "Requirement already satisfied: certifi>=2017.4.17 in /usr/local/lib/python3.10/dist-packages (from requests->keras-tuner) (2023.7.22)\n",
            "Requirement already satisfied: markdown-it-py>=2.2.0 in /usr/local/lib/python3.10/dist-packages (from rich->keras-core->keras-tuner) (3.0.0)\n",
            "Requirement already satisfied: pygments<3.0.0,>=2.13.0 in /usr/local/lib/python3.10/dist-packages (from rich->keras-core->keras-tuner) (2.16.1)\n",
            "Requirement already satisfied: mdurl~=0.1 in /usr/local/lib/python3.10/dist-packages (from markdown-it-py>=2.2.0->rich->keras-core->keras-tuner) (0.1.2)\n",
            "Installing collected packages: namex, kt-legacy, keras-core, keras-tuner\n",
            "Successfully installed keras-core-0.1.7 keras-tuner-1.4.4 kt-legacy-1.0.5 namex-0.0.7\n"
          ]
        }
      ]
    },
    {
      "cell_type": "code",
      "source": [
        "import tensorflow as tf\n",
        "from tensorflow import keras\n",
        "from tensorflow.keras import layers\n",
        "from kerastuner.tuners import RandomSearch\n",
        "\n",
        "# Define a function to build a neural network model with hyperparameters for tuning.\n",
        "\n",
        "def build_model(hp):\n",
        "    # Create a Sequential model.\n",
        "    model = Sequential()\n",
        "\n",
        "    # Add the first hidden layer with a dynamic number of units based on hyperparameter tuning.\n",
        "    model.add(Dense(units=32, kernel_initializer='he_uniform', activation='relu', input_dim=input_dim))\n",
        "\n",
        "    # Add a second hidden layer with a dynamic number of units.\n",
        "    model.add(Dense(units=32, kernel_initializer='he_uniform', activation='relu'))\n",
        "\n",
        "    # Add the output layer with a single unit for binary classification using sigmoid activation.\n",
        "    model.add(Dense(1, activation='sigmoid'))\n",
        "\n",
        "    # Choose an optimizer based on hyperparameter tuning.\n",
        "    optimizer = hp.Choice(\"optimizer\", values=[\"adam\", \"sgd\", \"rmsprop\", \"adadelta\"])\n",
        "\n",
        "    # Compile the model with the selected optimizer, binary cross-entropy loss, and accuracy metric.\n",
        "    model.compile(optimizer=optimizer, loss='binary_crossentropy', metrics=['accuracy'])\n",
        "\n",
        "    return model"
      ],
      "metadata": {
        "colab": {
          "base_uri": "https://localhost:8080/"
        },
        "id": "sKkMyqRCueRy",
        "outputId": "f9d70b03-364b-4d2c-f3a0-c93e3a14ee8a"
      },
      "execution_count": 29,
      "outputs": [
        {
          "output_type": "stream",
          "name": "stdout",
          "text": [
            "Using TensorFlow backend\n"
          ]
        },
        {
          "output_type": "stream",
          "name": "stderr",
          "text": [
            "<ipython-input-29-3f0de72147a1>:4: DeprecationWarning: `import kerastuner` is deprecated, please use `import keras_tuner`.\n",
            "  from kerastuner.tuners import RandomSearch\n"
          ]
        }
      ]
    },
    {
      "cell_type": "code",
      "source": [
        "# Set up a RandomSearch tuner for hyperparameter optimization.\n",
        "\n",
        "# Input:\n",
        "# - build_model: The function that defines the neural network architecture with tunable hyperparameters.\n",
        "# - objective: The metric to optimize during hyperparameter search (here, set to 'val_accuracy' for validation accuracy).\n",
        "# - max_trials: The maximum number of hyperparameter combinations to try during the search (here, set to 5).\n",
        "# - directory: The directory where the tuner's results and logs will be stored (e.g., 'project1').\n",
        "# - project_name: The name of the project or experiment (e.g., 'aps-fault').\n",
        "\n",
        "# The RandomSearch tuner explores different hyperparameter combinations to optimize the specified metric.\n",
        "tuner = RandomSearch(\n",
        "    build_model,  # Function defining the model architecture with tunable hyperparameters.\n",
        "    objective='val_accuracy',  # Metric to optimize (validation accuracy in this case).\n",
        "    max_trials=10,  # Maximum number of hyperparameter combinations to try.\n",
        "    directory='project1',  # Directory to store tuner results and logs.\n",
        "    project_name='bank_churn_ann'  # Name of the project or experiment.\n",
        ")\n"
      ],
      "metadata": {
        "id": "nrHjjuuivZIQ"
      },
      "execution_count": 30,
      "outputs": []
    },
    {
      "cell_type": "code",
      "source": [
        "# Initiate the hyperparameter search using the Keras Tuner.\n",
        "\n",
        "# Input:\n",
        "# - X_train: Training data features.\n",
        "# - y_train: Training data labels.\n",
        "# - validation_data: Validation data to evaluate the model's performance during the search (here, using X_test and y_test).\n",
        "# - epochs: Number of training epochs for each hyperparameter combination (here, set to 5).\n",
        "\n",
        "# The search method explores different hyperparameter combinations and trains the model with each combination.\n",
        "# It evaluates the model's performance on the validation data and tracks the specified objective metric.\n",
        "tuner.search(\n",
        "    X_train,  # Training data features.\n",
        "    y_train,  # Training data labels.\n",
        "    validation_data=(X_test, y_test),  # Validation data for performance evaluation.\n",
        "    epochs=5  # Number of training epochs for each hyperparameter combination.\n",
        ")"
      ],
      "metadata": {
        "colab": {
          "base_uri": "https://localhost:8080/"
        },
        "id": "h3GZeizYvjvG",
        "outputId": "d9e28455-94d6-4c2d-8029-b1c4c474177b"
      },
      "execution_count": 31,
      "outputs": [
        {
          "output_type": "stream",
          "name": "stdout",
          "text": [
            "Trial 4 Complete [00h 00m 11s]\n",
            "val_accuracy: 0.8535000085830688\n",
            "\n",
            "Best val_accuracy So Far: 0.8615000247955322\n",
            "Total elapsed time: 00h 00m 45s\n"
          ]
        }
      ]
    },
    {
      "cell_type": "code",
      "source": [
        "# Retrieve the values of the best hyperparameters found during hyperparameter tuning.\n",
        "\n",
        "# The tuner.get_best_hyperparameters() function fetches information about the best hyperparameters\n",
        "# discovered by the hyperparameter tuning process.\n",
        "# [0] is used to access the first (typically the only) set of best hyperparameters.\n",
        "# .values extracts the specific values of these best hyperparameters.\n",
        "\n",
        "# The result is a dictionary containing the best hyperparameter values that led to the optimal model performance.\n",
        "best_hyperparameter_values = tuner.get_best_hyperparameters()[0].values\n",
        "best_hyperparameter_values"
      ],
      "metadata": {
        "colab": {
          "base_uri": "https://localhost:8080/"
        },
        "id": "u60tVNvIvtO0",
        "outputId": "01c9ebae-207d-4cfb-f5ac-bac4d16c7d5f"
      },
      "execution_count": 32,
      "outputs": [
        {
          "output_type": "execute_result",
          "data": {
            "text/plain": [
              "{'optimizer': 'rmsprop'}"
            ]
          },
          "metadata": {},
          "execution_count": 32
        }
      ]
    },
    {
      "cell_type": "markdown",
      "source": [
        "## Get the Best Model\n",
        "\n",
        "Select the best model resulting from hyperparameter tuning."
      ],
      "metadata": {
        "id": "128hchKUTZhv"
      }
    },
    {
      "cell_type": "code",
      "source": [
        "# Get the best model for MODEL\n",
        "best_model = tuner.get_best_models(num_models=1)[0]"
      ],
      "metadata": {
        "id": "2SLUFqZOwvxN"
      },
      "execution_count": 33,
      "outputs": []
    },
    {
      "cell_type": "code",
      "source": [
        "# Display a summary of the neural network model.\n",
        "\n",
        "# The mymodel.summary() method is used to print a comprehensive summary of the model's layers,\n",
        "# the shape of each layer's output, and the total number of parameters.\n",
        "best_model.summary()"
      ],
      "metadata": {
        "colab": {
          "base_uri": "https://localhost:8080/"
        },
        "id": "fJC0gMdUw9uA",
        "outputId": "1eac235b-bad8-4831-ed9b-178f3e567531"
      },
      "execution_count": 34,
      "outputs": [
        {
          "output_type": "stream",
          "name": "stdout",
          "text": [
            "Model: \"sequential\"\n",
            "_________________________________________________________________\n",
            " Layer (type)                Output Shape              Param #   \n",
            "=================================================================\n",
            " dense (Dense)               (None, 32)                448       \n",
            "                                                                 \n",
            " dense_1 (Dense)             (None, 32)                1056      \n",
            "                                                                 \n",
            " dense_2 (Dense)             (None, 1)                 33        \n",
            "                                                                 \n",
            "=================================================================\n",
            "Total params: 1537 (6.00 KB)\n",
            "Trainable params: 1537 (6.00 KB)\n",
            "Non-trainable params: 0 (0.00 Byte)\n",
            "_________________________________________________________________\n"
          ]
        }
      ]
    },
    {
      "cell_type": "markdown",
      "source": [
        "## Train with the Best Model:\n",
        "Train the selected best model with the tuned hyperparameters."
      ],
      "metadata": {
        "id": "kDjAmYRSTf9c"
      }
    },
    {
      "cell_type": "code",
      "source": [
        "# Train the best model for MODEL\n",
        "best_model.fit(X_train, y_train, batch_size=10, epochs=30, validation_split=0.25)"
      ],
      "metadata": {
        "colab": {
          "base_uri": "https://localhost:8080/"
        },
        "id": "8uOhv3-lxSAY",
        "outputId": "6e602883-1248-4004-92c0-8c66730acdc2"
      },
      "execution_count": 35,
      "outputs": [
        {
          "output_type": "stream",
          "name": "stdout",
          "text": [
            "Epoch 1/30\n",
            "600/600 [==============================] - 3s 4ms/step - loss: 0.3469 - accuracy: 0.8550 - val_loss: 0.3568 - val_accuracy: 0.8580\n",
            "Epoch 2/30\n",
            "600/600 [==============================] - 2s 4ms/step - loss: 0.3419 - accuracy: 0.8592 - val_loss: 0.3624 - val_accuracy: 0.8575\n",
            "Epoch 3/30\n",
            "600/600 [==============================] - 4s 7ms/step - loss: 0.3398 - accuracy: 0.8590 - val_loss: 0.3636 - val_accuracy: 0.8590\n",
            "Epoch 4/30\n",
            "600/600 [==============================] - 4s 7ms/step - loss: 0.3368 - accuracy: 0.8603 - val_loss: 0.3573 - val_accuracy: 0.8540\n",
            "Epoch 5/30\n",
            "600/600 [==============================] - 3s 6ms/step - loss: 0.3342 - accuracy: 0.8630 - val_loss: 0.3620 - val_accuracy: 0.8550\n",
            "Epoch 6/30\n",
            "600/600 [==============================] - 5s 8ms/step - loss: 0.3329 - accuracy: 0.8648 - val_loss: 0.3630 - val_accuracy: 0.8570\n",
            "Epoch 7/30\n",
            "600/600 [==============================] - 4s 6ms/step - loss: 0.3315 - accuracy: 0.8643 - val_loss: 0.3703 - val_accuracy: 0.8555\n",
            "Epoch 8/30\n",
            "600/600 [==============================] - 4s 6ms/step - loss: 0.3300 - accuracy: 0.8640 - val_loss: 0.3615 - val_accuracy: 0.8545\n",
            "Epoch 9/30\n",
            "600/600 [==============================] - 5s 8ms/step - loss: 0.3296 - accuracy: 0.8678 - val_loss: 0.3594 - val_accuracy: 0.8545\n",
            "Epoch 10/30\n",
            "600/600 [==============================] - 2s 3ms/step - loss: 0.3286 - accuracy: 0.8657 - val_loss: 0.3624 - val_accuracy: 0.8580\n",
            "Epoch 11/30\n",
            "600/600 [==============================] - 2s 3ms/step - loss: 0.3274 - accuracy: 0.8665 - val_loss: 0.3662 - val_accuracy: 0.8530\n",
            "Epoch 12/30\n",
            "600/600 [==============================] - 2s 3ms/step - loss: 0.3254 - accuracy: 0.8657 - val_loss: 0.3617 - val_accuracy: 0.8590\n",
            "Epoch 13/30\n",
            "600/600 [==============================] - 2s 3ms/step - loss: 0.3247 - accuracy: 0.8678 - val_loss: 0.3633 - val_accuracy: 0.8595\n",
            "Epoch 14/30\n",
            "600/600 [==============================] - 2s 4ms/step - loss: 0.3241 - accuracy: 0.8672 - val_loss: 0.3596 - val_accuracy: 0.8600\n",
            "Epoch 15/30\n",
            "600/600 [==============================] - 3s 4ms/step - loss: 0.3229 - accuracy: 0.8675 - val_loss: 0.3647 - val_accuracy: 0.8575\n",
            "Epoch 16/30\n",
            "600/600 [==============================] - 2s 3ms/step - loss: 0.3232 - accuracy: 0.8688 - val_loss: 0.3657 - val_accuracy: 0.8555\n",
            "Epoch 17/30\n",
            "600/600 [==============================] - 2s 3ms/step - loss: 0.3212 - accuracy: 0.8682 - val_loss: 0.3650 - val_accuracy: 0.8555\n",
            "Epoch 18/30\n",
            "600/600 [==============================] - 2s 3ms/step - loss: 0.3210 - accuracy: 0.8690 - val_loss: 0.3649 - val_accuracy: 0.8545\n",
            "Epoch 19/30\n",
            "600/600 [==============================] - 2s 4ms/step - loss: 0.3202 - accuracy: 0.8692 - val_loss: 0.3682 - val_accuracy: 0.8560\n",
            "Epoch 20/30\n",
            "600/600 [==============================] - 2s 4ms/step - loss: 0.3190 - accuracy: 0.8688 - val_loss: 0.3663 - val_accuracy: 0.8565\n",
            "Epoch 21/30\n",
            "600/600 [==============================] - 4s 7ms/step - loss: 0.3179 - accuracy: 0.8703 - val_loss: 0.3718 - val_accuracy: 0.8565\n",
            "Epoch 22/30\n",
            "600/600 [==============================] - 3s 5ms/step - loss: 0.3177 - accuracy: 0.8720 - val_loss: 0.3670 - val_accuracy: 0.8585\n",
            "Epoch 23/30\n",
            "600/600 [==============================] - 3s 6ms/step - loss: 0.3164 - accuracy: 0.8707 - val_loss: 0.3757 - val_accuracy: 0.8555\n",
            "Epoch 24/30\n",
            "600/600 [==============================] - 3s 5ms/step - loss: 0.3165 - accuracy: 0.8715 - val_loss: 0.3644 - val_accuracy: 0.8545\n",
            "Epoch 25/30\n",
            "600/600 [==============================] - 2s 4ms/step - loss: 0.3152 - accuracy: 0.8715 - val_loss: 0.3713 - val_accuracy: 0.8520\n",
            "Epoch 26/30\n",
            "600/600 [==============================] - 2s 3ms/step - loss: 0.3144 - accuracy: 0.8727 - val_loss: 0.3682 - val_accuracy: 0.8570\n",
            "Epoch 27/30\n",
            "600/600 [==============================] - 2s 3ms/step - loss: 0.3141 - accuracy: 0.8738 - val_loss: 0.3724 - val_accuracy: 0.8565\n",
            "Epoch 28/30\n",
            "600/600 [==============================] - 2s 3ms/step - loss: 0.3137 - accuracy: 0.8725 - val_loss: 0.3730 - val_accuracy: 0.8550\n",
            "Epoch 29/30\n",
            "600/600 [==============================] - 2s 3ms/step - loss: 0.3126 - accuracy: 0.8715 - val_loss: 0.3692 - val_accuracy: 0.8520\n",
            "Epoch 30/30\n",
            "600/600 [==============================] - 2s 4ms/step - loss: 0.3124 - accuracy: 0.8742 - val_loss: 0.3760 - val_accuracy: 0.8555\n"
          ]
        },
        {
          "output_type": "execute_result",
          "data": {
            "text/plain": [
              "<keras.src.callbacks.History at 0x7f533ae54040>"
            ]
          },
          "metadata": {},
          "execution_count": 35
        }
      ]
    },
    {
      "cell_type": "markdown",
      "source": [
        "## Predict and Evaluate Binary Classification Results with the Best Model:\n",
        "Use the best model to predict customer churn and assess its performance."
      ],
      "metadata": {
        "id": "fp3MPfTATmz2"
      }
    },
    {
      "cell_type": "code",
      "source": [
        "# Predicting and evaluating binary classification results.\n",
        "from sklearn.metrics import confusion_matrix, accuracy_score, classification_report\n",
        "\n",
        "# Predict class probabilities for the test dataset using the trained model.\n",
        "y_pred_probabilities = best_model.predict(X_test)\n",
        "\n",
        "# Convert predicted probabilities into binary predictions using a threshold of 0.5.\n",
        "# If the predicted probability is greater than or equal to 0.5, it's classified as 1; otherwise, it's classified as 0.\n",
        "y_prediction = (y_pred_probabilities > 0.5)\n",
        "\n",
        "# Confusion Matrix\n",
        "confusion_matrix_result = confusion_matrix(y_test, y_prediction)\n",
        "print(\"Accuracy Score\", accuracy_score(y_test, y_prediction))\n",
        "print(\"Confusion Matrix\")\n",
        "print(confusion_matrix_result)\n",
        "print(classification_report(y_test, y_prediction))"
      ],
      "metadata": {
        "colab": {
          "base_uri": "https://localhost:8080/"
        },
        "id": "SBT-y87V1bVA",
        "outputId": "13915aef-4cd3-461b-da62-0d8e0f1d6a78"
      },
      "execution_count": 36,
      "outputs": [
        {
          "output_type": "stream",
          "name": "stdout",
          "text": [
            "63/63 [==============================] - 0s 1ms/step\n",
            "Accuracy Score 0.856\n",
            "Confusion Matrix\n",
            "[[1503   92]\n",
            " [ 196  209]]\n",
            "              precision    recall  f1-score   support\n",
            "\n",
            "           0       0.88      0.94      0.91      1595\n",
            "           1       0.69      0.52      0.59       405\n",
            "\n",
            "    accuracy                           0.86      2000\n",
            "   macro avg       0.79      0.73      0.75      2000\n",
            "weighted avg       0.85      0.86      0.85      2000\n",
            "\n"
          ]
        }
      ]
    },
    {
      "cell_type": "code",
      "source": [
        "# the goal is to use this ANN model to predict the probability of the customer leaving the bank\n",
        "# Predicting the churn probability for single observations\n",
        "\n",
        "#Geography: French\n",
        "#Credit Score:600\n",
        "#Gender: Male\n",
        "#Age: 40 years old\n",
        "#Tenure: 3 years\n",
        "#Balance: $60000\n",
        "#Number of Products: 2\n",
        "#with Credit Card\n",
        "#Active member\n",
        "#Estimated Salary: $50000\n",
        "\n",
        "# Ignore the feature names warning\n",
        "scaler.feature_names_in_ = None\n",
        "\n",
        "print(best_model.predict(scaler.transform([[1, 0, 0, 600, 1, 0, 40, 3, 60000, 2, 1, 1, 50000]])))\n",
        "print(best_model.predict(scaler.transform([[1, 0, 0, 600, 1, 0, 40, 3, 60000, 2, 1, 1, 50000]])) > 0.5)"
      ],
      "metadata": {
        "colab": {
          "base_uri": "https://localhost:8080/"
        },
        "id": "C4rpSVED1ooP",
        "outputId": "cd1f6db7-4a30-4e26-c257-774198f04301"
      },
      "execution_count": 37,
      "outputs": [
        {
          "output_type": "stream",
          "name": "stdout",
          "text": [
            "1/1 [==============================] - 0s 17ms/step\n",
            "[[0.]]\n",
            "1/1 [==============================] - 0s 17ms/step\n",
            "[[False]]\n"
          ]
        }
      ]
    },
    {
      "cell_type": "markdown",
      "source": [
        "## Conclusion:\n",
        "\n",
        "This project demonstrated the effectiveness of employing an Artificial Neural Network (ANN) to predict bank churn. The structured workflow encompassed critical phases, including data preprocessing, model development, training, and evaluation. The incorporation of hyperparameter tuning aimed at enhancing the model's performance resulted in the selection of the best-performing model.\n",
        "\n",
        "Comparing the baseline model to the hyperparameter-tuned model, both exhibited closely similar classification results. Notably, it was observed that further improvements in model performance could potentially be achieved by augmenting the dataset size. The application of deep learning principles and hyperparameter optimization techniques holds promise for delivering more precise forecasts of bank churn, thereby offering invaluable insights for customer retention strategies within the  banking industry."
      ],
      "metadata": {
        "id": "lcx8HCgBPn2q"
      }
    }
  ]
}